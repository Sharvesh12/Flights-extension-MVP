{
 "cells": [
  {
   "cell_type": "code",
   "execution_count": 1,
   "id": "4ef3bc25",
   "metadata": {},
   "outputs": [
    {
     "name": "stderr",
     "output_type": "stream",
     "text": [
      "c:\\Users\\afroj\\anaconda3\\lib\\site-packages\\pandas\\core\\computation\\expressions.py:21: UserWarning: Pandas requires version '2.8.0' or newer of 'numexpr' (version '2.7.3' currently installed).\n",
      "  from pandas.core.computation.check import NUMEXPR_INSTALLED\n",
      "c:\\Users\\afroj\\anaconda3\\lib\\site-packages\\pandas\\core\\arrays\\masked.py:62: UserWarning: Pandas requires version '1.3.4' or newer of 'bottleneck' (version '1.3.2' currently installed).\n",
      "  from pandas.core import (\n"
     ]
    }
   ],
   "source": [
    "import requests\n",
    "import json\n",
    "import pandas as pd\n",
    "from pandas import json_normalize\n",
    "import config\n",
    "from db_manager import DBManager\n",
    "import os\n",
    "from rest_api import Api\n",
    "from datetime import date, datetime\n",
    "from dateutil.relativedelta import relativedelta\n",
    "from urllib.parse import quote_plus\n",
    "from sqlalchemy import create_engine\n",
    "import itertools\n",
    "import logging\n",
    "import pickle\n",
    "import hashlib"
   ]
  },
  {
   "cell_type": "code",
   "execution_count": 2,
   "id": "dce43a1c",
   "metadata": {},
   "outputs": [],
   "source": [
    "logging.basicConfig(\n",
    "    format='%(levelname)s-%(lineno)s-%(message)s',\n",
    "    datefmt='%Y-%m-%d %H:%M:%S',\n",
    "    level='INFO'\n",
    ")\n",
    "logger=logging.getLogger(__name__)"
   ]
  },
  {
   "cell_type": "markdown",
   "id": "e031de87",
   "metadata": {},
   "source": [
    "#### Show all columns without truncating"
   ]
  },
  {
   "cell_type": "markdown",
   "id": "3a2111e1",
   "metadata": {},
   "source": [
    "Today's date"
   ]
  },
  {
   "cell_type": "code",
   "execution_count": 3,
   "id": "7a6455f9",
   "metadata": {},
   "outputs": [
    {
     "name": "stderr",
     "output_type": "stream",
     "text": [
      "INFO-__main__:2-Current date: 2023-11-04\n"
     ]
    }
   ],
   "source": [
    "today = date.today()\n",
    "logger.info(f'Current date: {today}')"
   ]
  },
  {
   "cell_type": "markdown",
   "id": "1821b741",
   "metadata": {},
   "source": [
    "Adding months to today's date. Near term travel dates 30 - 60 days ahead"
   ]
  },
  {
   "cell_type": "code",
   "execution_count": 4,
   "id": "15c6c73d",
   "metadata": {},
   "outputs": [
    {
     "name": "stderr",
     "output_type": "stream",
     "text": [
      "INFO-__main__:5-Departure_dates:2023-12-04 and 2024-01-04 \n",
      "Return dates:2024-01-04 and 2024-02-04\n"
     ]
    }
   ],
   "source": [
    "departure_date_1_month = today + relativedelta(months=1)\n",
    "departure_date_2_month = today + relativedelta(months=2)\n",
    "return_date_1_month = departure_date_2_month\n",
    "return_date_2_month = today + relativedelta(months=3)\n",
    "logger.info(f'Departure_dates:{departure_date_1_month} and {departure_date_2_month} \\nReturn dates:{return_date_1_month} and {return_date_2_month}')"
   ]
  },
  {
   "cell_type": "markdown",
   "id": "3b8dab2b",
   "metadata": {},
   "source": [
    "Get the nearby festival departure dates by start_date from the public.indian_holidays table"
   ]
  },
  {
   "cell_type": "code",
   "execution_count": 10,
   "id": "0d09bcf9",
   "metadata": {},
   "outputs": [],
   "source": [
    "# credentials=config.pg_credentials\n",
    "# db = DBManager(credentials=credentials)\n",
    "# df_departure_arrival_dates = db.run_query(query_file_name='festival_dates')"
   ]
  },
  {
   "cell_type": "code",
   "execution_count": 11,
   "id": "b0b746da",
   "metadata": {},
   "outputs": [],
   "source": [
    "#df_departure_arrival_dates "
   ]
  },
  {
   "cell_type": "markdown",
   "id": "d0d872d1",
   "metadata": {},
   "source": [
    "Apply the combination of params to get data for all possible combinations of depart, arrival dates and depart arrival airports"
   ]
  },
  {
   "cell_type": "markdown",
   "id": "8144963f",
   "metadata": {},
   "source": [
    "Combination itertools usage. Im calculating the total combinations by multiplying the number of possibilities (unique values) for each variable<br />\n",
    "Departure airport: 2 possibilities<br />\n",
    "Arrival airport: 4 possibilities<br />\n",
    "Departure date: 2 possibilities<br />\n",
    "Arrival date: 1 possibilities<br />\n",
    "Total combinations = 2 x 4 x 2 x 1 = 16 combinations"
   ]
  },
  {
   "cell_type": "markdown",
   "id": "71e128a2",
   "metadata": {},
   "source": [
    "#### Travel payouts API to get flight search results for each combination in the list "
   ]
  },
  {
   "cell_type": "markdown",
   "id": "8058c0cf",
   "metadata": {},
   "source": [
    "--------------------------------------------------------"
   ]
  },
  {
   "cell_type": "markdown",
   "id": "fca752f6",
   "metadata": {},
   "source": [
    "API test for amadeus"
   ]
  },
  {
   "cell_type": "markdown",
   "id": "a235c41a",
   "metadata": {},
   "source": [
    "POST request to the Amadeus authorization server to get the access token"
   ]
  },
  {
   "cell_type": "code",
   "execution_count": 5,
   "id": "f0dc9be9",
   "metadata": {},
   "outputs": [
    {
     "name": "stderr",
     "output_type": "stream",
     "text": [
      "INFO-__main__:6-Successful access token generation\n"
     ]
    }
   ],
   "source": [
    "response = requests.post(url=config.url_token, headers=config.headers_token, data=config.data)\n",
    "\n",
    "if response.status_code == 200:\n",
    "  # API call succeeded\n",
    "  token = response.json()['access_token'] \n",
    "  logger.info('Successful access token generation')\n",
    "else:\n",
    "  # API call failed\n",
    "  print(response.text)"
   ]
  },
  {
   "cell_type": "code",
   "execution_count": 6,
   "id": "b89d1abd",
   "metadata": {},
   "outputs": [],
   "source": [
    "#Combinations of destination and origin airport codes\n",
    "origins = config.params['originLocationCode']\n",
    "destinations = config.params['destinationLocationCode']\n",
    "departure_dates=[departure_date_1_month,departure_date_2_month]\n",
    "# return_dates=[return_date_1_month,return_date_2_month]"
   ]
  },
  {
   "cell_type": "markdown",
   "id": "f7771296",
   "metadata": {},
   "source": [
    "Creating combinations of Origin and Destination to be passed as parameters to the api call"
   ]
  },
  {
   "cell_type": "markdown",
   "id": "c5ba676b",
   "metadata": {},
   "source": [
    "trial"
   ]
  },
  {
   "cell_type": "code",
   "execution_count": 7,
   "id": "bf314de2",
   "metadata": {},
   "outputs": [
    {
     "name": "stderr",
     "output_type": "stream",
     "text": [
      "INFO-__main__:35-API call 1 succeeded for flight offers\n",
      "INFO-__main__:35-API call 2 succeeded for flight offers\n",
      "INFO-__main__:35-API call 3 succeeded for flight offers\n",
      "INFO-__main__:35-API call 4 succeeded for flight offers\n",
      "INFO-__main__:35-API call 5 succeeded for flight offers\n",
      "INFO-__main__:35-API call 6 succeeded for flight offers\n",
      "INFO-__main__:35-API call 7 succeeded for flight offers\n",
      "INFO-__main__:35-API call 8 succeeded for flight offers\n",
      "INFO-__main__:35-API call 9 succeeded for flight offers\n",
      "INFO-__main__:35-API call 10 succeeded for flight offers\n",
      "INFO-__main__:35-API call 11 succeeded for flight offers\n",
      "INFO-__main__:35-API call 12 succeeded for flight offers\n",
      "INFO-__main__:35-API call 13 succeeded for flight offers\n",
      "INFO-__main__:35-API call 14 succeeded for flight offers\n",
      "INFO-__main__:35-API call 15 succeeded for flight offers\n",
      "INFO-__main__:35-API call 16 succeeded for flight offers\n",
      "INFO-__main__:35-API call 17 succeeded for flight offers\n",
      "INFO-__main__:35-API call 18 succeeded for flight offers\n",
      "INFO-__main__:35-API call 19 succeeded for flight offers\n",
      "INFO-__main__:35-API call 20 succeeded for flight offers\n",
      "INFO-__main__:35-API call 21 succeeded for flight offers\n",
      "INFO-__main__:35-API call 22 succeeded for flight offers\n",
      "INFO-__main__:35-API call 23 succeeded for flight offers\n",
      "INFO-__main__:35-API call 24 succeeded for flight offers\n"
     ]
    }
   ],
   "source": [
    "headers = {\n",
    "  'client_id': config.client_id, \n",
    "  'client_secret': config.client_secret,\n",
    "  'Authorization': f'Bearer {token}'\n",
    "  }\n",
    "\n",
    "url = config.url\n",
    "\n",
    "response = []\n",
    "counter = 0\n",
    "\n",
    "for origin, dest, depart in itertools.product(origins, destinations, departure_dates):\n",
    "\n",
    "    params={\n",
    "        'originLocationCode': origin,\n",
    "        'destinationLocationCode':dest, \n",
    "        'departureDate': depart, \n",
    "        'returnDate' : None,\n",
    "        'adults':1,\n",
    "        'children':None,\n",
    "        'infants':None,\n",
    "        'travelClass':None,\n",
    "        'currencyCode':'EUR',\n",
    "        'maxPrice' : None\n",
    "        }\n",
    "\n",
    "\n",
    "    #to be worked on later for by calling rest_api module\n",
    "    # api = Api()\n",
    "    # resp = api.make_flight_api_request(url,headers,params)\n",
    "    resp = requests.get(url, headers=headers, params=params)\n",
    "    counter = counter+1\n",
    "    resp = resp.json()\n",
    "    response.append(resp)\n",
    "    logger.info(f'API call {counter} succeeded for flight offers')\n",
    "    # else:\n",
    "    #     # API call failed\n",
    "    #     logger.info('API call failed')\n"
   ]
  },
  {
   "cell_type": "markdown",
   "id": "263986ed",
   "metadata": {},
   "source": [
    "### Saving the Global variable to a file"
   ]
  },
  {
   "cell_type": "markdown",
   "id": "d70cda1d",
   "metadata": {},
   "source": [
    "### Creating the payload for real time price script"
   ]
  },
  {
   "cell_type": "code",
   "execution_count": 16,
   "id": "5701316a",
   "metadata": {},
   "outputs": [],
   "source": [
    "\n",
    "# payload = {\n",
    "#   \"data\": {\n",
    "#     \"type\": \"flight-offers-pricing\",\n",
    "#     \"flightOffers\": [], \n",
    "#     \"travelers\": []\n",
    "#   }\n",
    "# }\n",
    "\n",
    "# for r in response:\n",
    "\n",
    "#   # Extract flight offer data\n",
    "#   offers = r['data']\n",
    "  \n",
    "#   # Add offers to payload\n",
    "#   payload['data']['flightOffers'].extend(offers) \n",
    "\n",
    "# # Convert payload to JSON string for request \n",
    "# json_payload = json.dumps(payload)"
   ]
  },
  {
   "cell_type": "code",
   "execution_count": 17,
   "id": "9ae7fbdb",
   "metadata": {},
   "outputs": [],
   "source": [
    "# flight_search_response =json_payload"
   ]
  },
  {
   "cell_type": "code",
   "execution_count": 18,
   "id": "3192a739",
   "metadata": {},
   "outputs": [],
   "source": [
    "# Save the variable to a file\n",
    "# with open('global_variable.pkl', 'wb') as file:\n",
    "#     pickle.dump(flight_search_response, file)"
   ]
  },
  {
   "cell_type": "markdown",
   "id": "5ff80cd7",
   "metadata": {},
   "source": [
    "Convert that sample nested JSON data into separate DataFrames"
   ]
  },
  {
   "cell_type": "markdown",
   "id": "0566a466",
   "metadata": {},
   "source": [
    "Repeat the same above procedure for itineraries and traveler_pricing"
   ]
  },
  {
   "cell_type": "markdown",
   "metadata": {},
   "source": [
    "### Offers"
   ]
  },
  {
   "cell_type": "code",
   "execution_count": 64,
   "id": "d10b9e79",
   "metadata": {},
   "outputs": [],
   "source": [
    "offer_df = pd.DataFrame()\n",
    "\n",
    "for i in range(24):\n",
    "    # Assuming response[i]['data'] is a dictionary\n",
    "    data_to_append = pd.json_normalize(response[i]['data'], record_path=['itineraries'], meta=['id', 'source'])\n",
    "    \n",
    "    # Append the data to the existing DataFrame\n",
    "    offer_df = pd.concat([offer_df, data_to_append], ignore_index=True)"
   ]
  },
  {
   "cell_type": "code",
   "execution_count": 65,
   "metadata": {},
   "outputs": [
    {
     "data": {
      "text/html": [
       "<div>\n",
       "<style scoped>\n",
       "    .dataframe tbody tr th:only-of-type {\n",
       "        vertical-align: middle;\n",
       "    }\n",
       "\n",
       "    .dataframe tbody tr th {\n",
       "        vertical-align: top;\n",
       "    }\n",
       "\n",
       "    .dataframe thead th {\n",
       "        text-align: right;\n",
       "    }\n",
       "</style>\n",
       "<table border=\"1\" class=\"dataframe\">\n",
       "  <thead>\n",
       "    <tr style=\"text-align: right;\">\n",
       "      <th></th>\n",
       "      <th>duration</th>\n",
       "      <th>segments</th>\n",
       "      <th>id</th>\n",
       "      <th>source</th>\n",
       "    </tr>\n",
       "  </thead>\n",
       "  <tbody>\n",
       "    <tr>\n",
       "      <th>0</th>\n",
       "      <td>PT10H35M</td>\n",
       "      <td>[{'departure': {'iataCode': 'BER', 'at': '2023...</td>\n",
       "      <td>1</td>\n",
       "      <td>GDS</td>\n",
       "    </tr>\n",
       "    <tr>\n",
       "      <th>1</th>\n",
       "      <td>PT14H40M</td>\n",
       "      <td>[{'departure': {'iataCode': 'BER', 'at': '2023...</td>\n",
       "      <td>2</td>\n",
       "      <td>GDS</td>\n",
       "    </tr>\n",
       "    <tr>\n",
       "      <th>2</th>\n",
       "      <td>PT16H25M</td>\n",
       "      <td>[{'departure': {'iataCode': 'BER', 'at': '2023...</td>\n",
       "      <td>3</td>\n",
       "      <td>GDS</td>\n",
       "    </tr>\n",
       "    <tr>\n",
       "      <th>3</th>\n",
       "      <td>PT23H30M</td>\n",
       "      <td>[{'departure': {'iataCode': 'BER', 'at': '2023...</td>\n",
       "      <td>4</td>\n",
       "      <td>GDS</td>\n",
       "    </tr>\n",
       "    <tr>\n",
       "      <th>4</th>\n",
       "      <td>PT25H15M</td>\n",
       "      <td>[{'departure': {'iataCode': 'BER', 'at': '2023...</td>\n",
       "      <td>5</td>\n",
       "      <td>GDS</td>\n",
       "    </tr>\n",
       "  </tbody>\n",
       "</table>\n",
       "</div>"
      ],
      "text/plain": [
       "   duration                                           segments id source\n",
       "0  PT10H35M  [{'departure': {'iataCode': 'BER', 'at': '2023...  1    GDS\n",
       "1  PT14H40M  [{'departure': {'iataCode': 'BER', 'at': '2023...  2    GDS\n",
       "2  PT16H25M  [{'departure': {'iataCode': 'BER', 'at': '2023...  3    GDS\n",
       "3  PT23H30M  [{'departure': {'iataCode': 'BER', 'at': '2023...  4    GDS\n",
       "4  PT25H15M  [{'departure': {'iataCode': 'BER', 'at': '2023...  5    GDS"
      ]
     },
     "execution_count": 65,
     "metadata": {},
     "output_type": "execute_result"
    }
   ],
   "source": [
    "offer_df.head()"
   ]
  },
  {
   "cell_type": "markdown",
   "id": "5ef51d82",
   "metadata": {},
   "source": [
    "Checking what the offer df contains"
   ]
  },
  {
   "cell_type": "markdown",
   "id": "8ee7495f",
   "metadata": {},
   "source": [
    "To get the first dept airport and last arrival airport looping through each row in itineraries df"
   ]
  },
  {
   "cell_type": "code",
   "execution_count": 66,
   "id": "6ed6ba86",
   "metadata": {},
   "outputs": [],
   "source": [
    "offer_df['first_dept_airport'] = offer_df['segments'].apply(lambda x: x[0]['departure']['iataCode']) \n",
    "offer_df['last_arr_airport'] = offer_df['segments'].apply(lambda x: x[-1]['arrival']['iataCode'])\n",
    "offer_df['first_dept_time'] = offer_df['segments'].apply(lambda x: x[0]['departure']['at']) \n",
    "offer_df['last_arr_time'] = offer_df['segments'].apply(lambda x: x[-1]['arrival']['at'])"
   ]
  },
  {
   "cell_type": "markdown",
   "metadata": {},
   "source": [
    "Creating a composite key"
   ]
  },
  {
   "cell_type": "markdown",
   "id": "f5b54e17",
   "metadata": {},
   "source": [
    "Think About a unique key that you will use to join pricing table and segments table together to get the price of the flight"
   ]
  },
  {
   "cell_type": "code",
   "execution_count": 67,
   "id": "b817b89d",
   "metadata": {},
   "outputs": [],
   "source": [
    "offer_df = offer_df.rename(columns={'id': 'offer_id'})"
   ]
  },
  {
   "cell_type": "markdown",
   "metadata": {},
   "source": [
    "Trying another unique id"
   ]
  },
  {
   "cell_type": "code",
   "execution_count": 68,
   "metadata": {},
   "outputs": [],
   "source": [
    "def generate_unique_id(row):\n",
    "    unique_string = f\"{row['offer_id']}_{row['first_dept_airport']}_{row['last_arr_airport']}_{row['first_dept_time']}_{row['last_arr_time']}\"\n",
    "    unique_id = hashlib.md5(unique_string.encode()).hexdigest()\n",
    "    return unique_id\n",
    "\n",
    "offer_df['unique_id'] = offer_df.apply(generate_unique_id, axis=1)"
   ]
  },
  {
   "cell_type": "code",
   "execution_count": 69,
   "id": "15b3449e",
   "metadata": {},
   "outputs": [],
   "source": [
    "offer_df=offer_df.drop(columns=['segments'],axis=1)"
   ]
  },
  {
   "cell_type": "code",
   "execution_count": 70,
   "id": "70104cc8",
   "metadata": {},
   "outputs": [],
   "source": [
    "# Define the desired column order\n",
    "desired_order = ['unique_id', 'offer_id', 'source','first_dept_airport','last_arr_airport','first_dept_time','last_arr_time','duration']\n",
    "\n",
    "# Create a new DataFrame with columns in the desired order\n",
    "offer_df = offer_df[desired_order]"
   ]
  },
  {
   "cell_type": "code",
   "execution_count": 72,
   "id": "0bfb9378",
   "metadata": {},
   "outputs": [
    {
     "data": {
      "text/html": [
       "<div>\n",
       "<style scoped>\n",
       "    .dataframe tbody tr th:only-of-type {\n",
       "        vertical-align: middle;\n",
       "    }\n",
       "\n",
       "    .dataframe tbody tr th {\n",
       "        vertical-align: top;\n",
       "    }\n",
       "\n",
       "    .dataframe thead th {\n",
       "        text-align: right;\n",
       "    }\n",
       "</style>\n",
       "<table border=\"1\" class=\"dataframe\">\n",
       "  <thead>\n",
       "    <tr style=\"text-align: right;\">\n",
       "      <th></th>\n",
       "      <th>unique_id</th>\n",
       "      <th>offer_id</th>\n",
       "      <th>source</th>\n",
       "      <th>first_dept_airport</th>\n",
       "      <th>last_arr_airport</th>\n",
       "      <th>first_dept_time</th>\n",
       "      <th>last_arr_time</th>\n",
       "      <th>duration</th>\n",
       "    </tr>\n",
       "  </thead>\n",
       "  <tbody>\n",
       "    <tr>\n",
       "      <th>0</th>\n",
       "      <td>e121ce1a8cadf04cefb01199ffb4c48b</td>\n",
       "      <td>1</td>\n",
       "      <td>GDS</td>\n",
       "      <td>BER</td>\n",
       "      <td>DEL</td>\n",
       "      <td>2023-12-04T11:50:00</td>\n",
       "      <td>2023-12-05T01:55:00</td>\n",
       "      <td>PT10H35M</td>\n",
       "    </tr>\n",
       "    <tr>\n",
       "      <th>1</th>\n",
       "      <td>31a29598b1799c34014de0155cd74d0c</td>\n",
       "      <td>2</td>\n",
       "      <td>GDS</td>\n",
       "      <td>BER</td>\n",
       "      <td>DEL</td>\n",
       "      <td>2023-12-04T06:00:00</td>\n",
       "      <td>2023-12-05T01:10:00</td>\n",
       "      <td>PT14H40M</td>\n",
       "    </tr>\n",
       "    <tr>\n",
       "      <th>2</th>\n",
       "      <td>f7fa70a52ca2d57ede7f7958a18e7261</td>\n",
       "      <td>3</td>\n",
       "      <td>GDS</td>\n",
       "      <td>BER</td>\n",
       "      <td>DEL</td>\n",
       "      <td>2023-12-04T06:00:00</td>\n",
       "      <td>2023-12-05T01:55:00</td>\n",
       "      <td>PT16H25M</td>\n",
       "    </tr>\n",
       "    <tr>\n",
       "      <th>3</th>\n",
       "      <td>5b280eeaeacff3508091c1e66f151c1a</td>\n",
       "      <td>4</td>\n",
       "      <td>GDS</td>\n",
       "      <td>BER</td>\n",
       "      <td>DEL</td>\n",
       "      <td>2023-12-04T21:10:00</td>\n",
       "      <td>2023-12-06T01:10:00</td>\n",
       "      <td>PT23H30M</td>\n",
       "    </tr>\n",
       "    <tr>\n",
       "      <th>4</th>\n",
       "      <td>ab2769fb5d649bebed5f4e3181ea70d5</td>\n",
       "      <td>5</td>\n",
       "      <td>GDS</td>\n",
       "      <td>BER</td>\n",
       "      <td>DEL</td>\n",
       "      <td>2023-12-04T21:10:00</td>\n",
       "      <td>2023-12-06T01:55:00</td>\n",
       "      <td>PT25H15M</td>\n",
       "    </tr>\n",
       "  </tbody>\n",
       "</table>\n",
       "</div>"
      ],
      "text/plain": [
       "                          unique_id offer_id source first_dept_airport  \\\n",
       "0  e121ce1a8cadf04cefb01199ffb4c48b        1    GDS                BER   \n",
       "1  31a29598b1799c34014de0155cd74d0c        2    GDS                BER   \n",
       "2  f7fa70a52ca2d57ede7f7958a18e7261        3    GDS                BER   \n",
       "3  5b280eeaeacff3508091c1e66f151c1a        4    GDS                BER   \n",
       "4  ab2769fb5d649bebed5f4e3181ea70d5        5    GDS                BER   \n",
       "\n",
       "  last_arr_airport      first_dept_time        last_arr_time  duration  \n",
       "0              DEL  2023-12-04T11:50:00  2023-12-05T01:55:00  PT10H35M  \n",
       "1              DEL  2023-12-04T06:00:00  2023-12-05T01:10:00  PT14H40M  \n",
       "2              DEL  2023-12-04T06:00:00  2023-12-05T01:55:00  PT16H25M  \n",
       "3              DEL  2023-12-04T21:10:00  2023-12-06T01:10:00  PT23H30M  \n",
       "4              DEL  2023-12-04T21:10:00  2023-12-06T01:55:00  PT25H15M  "
      ]
     },
     "execution_count": 72,
     "metadata": {},
     "output_type": "execute_result"
    }
   ],
   "source": [
    "offer_df.head()"
   ]
  },
  {
   "cell_type": "markdown",
   "metadata": {},
   "source": [
    "### Itineraries segments"
   ]
  },
  {
   "cell_type": "code",
   "execution_count": 108,
   "metadata": {},
   "outputs": [],
   "source": [
    "itineraries_df = pd.DataFrame()\n",
    "\n",
    "for i in range(24):\n",
    "    # Assuming response[i]['data'] is a dictionary\n",
    "    data_to_append = pd.json_normalize(response[i]['data'], record_path=['itineraries'], meta=['id', 'source'])\n",
    "    \n",
    "    # Append the data to the existing DataFrame\n",
    "    itineraries_df = pd.concat([itineraries_df, data_to_append], ignore_index=True)"
   ]
  },
  {
   "cell_type": "code",
   "execution_count": 110,
   "metadata": {},
   "outputs": [],
   "source": [
    "itineraries_df['first_dept_airport'] = itineraries_df['segments'].apply(lambda x: x[0]['departure']['iataCode']) \n",
    "itineraries_df['last_arr_airport'] = itineraries_df['segments'].apply(lambda x: x[-1]['arrival']['iataCode'])\n",
    "itineraries_df['first_dept_time'] = itineraries_df['segments'].apply(lambda x: x[0]['departure']['at']) \n",
    "itineraries_df['last_arr_time'] = itineraries_df['segments'].apply(lambda x: x[-1]['arrival']['at'])"
   ]
  },
  {
   "cell_type": "code",
   "execution_count": 111,
   "metadata": {},
   "outputs": [
    {
     "data": {
      "text/html": [
       "<div>\n",
       "<style scoped>\n",
       "    .dataframe tbody tr th:only-of-type {\n",
       "        vertical-align: middle;\n",
       "    }\n",
       "\n",
       "    .dataframe tbody tr th {\n",
       "        vertical-align: top;\n",
       "    }\n",
       "\n",
       "    .dataframe thead th {\n",
       "        text-align: right;\n",
       "    }\n",
       "</style>\n",
       "<table border=\"1\" class=\"dataframe\">\n",
       "  <thead>\n",
       "    <tr style=\"text-align: right;\">\n",
       "      <th></th>\n",
       "      <th>duration</th>\n",
       "      <th>segments</th>\n",
       "      <th>id</th>\n",
       "      <th>source</th>\n",
       "      <th>first_dept_airport</th>\n",
       "      <th>last_arr_airport</th>\n",
       "      <th>first_dept_time</th>\n",
       "      <th>last_arr_time</th>\n",
       "    </tr>\n",
       "  </thead>\n",
       "  <tbody>\n",
       "    <tr>\n",
       "      <th>0</th>\n",
       "      <td>PT10H35M</td>\n",
       "      <td>[{'departure': {'iataCode': 'BER', 'at': '2023...</td>\n",
       "      <td>1</td>\n",
       "      <td>GDS</td>\n",
       "      <td>BER</td>\n",
       "      <td>DEL</td>\n",
       "      <td>2023-12-04T11:50:00</td>\n",
       "      <td>2023-12-05T01:55:00</td>\n",
       "    </tr>\n",
       "    <tr>\n",
       "      <th>1</th>\n",
       "      <td>PT14H40M</td>\n",
       "      <td>[{'departure': {'iataCode': 'BER', 'at': '2023...</td>\n",
       "      <td>2</td>\n",
       "      <td>GDS</td>\n",
       "      <td>BER</td>\n",
       "      <td>DEL</td>\n",
       "      <td>2023-12-04T06:00:00</td>\n",
       "      <td>2023-12-05T01:10:00</td>\n",
       "    </tr>\n",
       "    <tr>\n",
       "      <th>2</th>\n",
       "      <td>PT16H25M</td>\n",
       "      <td>[{'departure': {'iataCode': 'BER', 'at': '2023...</td>\n",
       "      <td>3</td>\n",
       "      <td>GDS</td>\n",
       "      <td>BER</td>\n",
       "      <td>DEL</td>\n",
       "      <td>2023-12-04T06:00:00</td>\n",
       "      <td>2023-12-05T01:55:00</td>\n",
       "    </tr>\n",
       "    <tr>\n",
       "      <th>3</th>\n",
       "      <td>PT23H30M</td>\n",
       "      <td>[{'departure': {'iataCode': 'BER', 'at': '2023...</td>\n",
       "      <td>4</td>\n",
       "      <td>GDS</td>\n",
       "      <td>BER</td>\n",
       "      <td>DEL</td>\n",
       "      <td>2023-12-04T21:10:00</td>\n",
       "      <td>2023-12-06T01:10:00</td>\n",
       "    </tr>\n",
       "    <tr>\n",
       "      <th>4</th>\n",
       "      <td>PT25H15M</td>\n",
       "      <td>[{'departure': {'iataCode': 'BER', 'at': '2023...</td>\n",
       "      <td>5</td>\n",
       "      <td>GDS</td>\n",
       "      <td>BER</td>\n",
       "      <td>DEL</td>\n",
       "      <td>2023-12-04T21:10:00</td>\n",
       "      <td>2023-12-06T01:55:00</td>\n",
       "    </tr>\n",
       "  </tbody>\n",
       "</table>\n",
       "</div>"
      ],
      "text/plain": [
       "   duration                                           segments id source  \\\n",
       "0  PT10H35M  [{'departure': {'iataCode': 'BER', 'at': '2023...  1    GDS   \n",
       "1  PT14H40M  [{'departure': {'iataCode': 'BER', 'at': '2023...  2    GDS   \n",
       "2  PT16H25M  [{'departure': {'iataCode': 'BER', 'at': '2023...  3    GDS   \n",
       "3  PT23H30M  [{'departure': {'iataCode': 'BER', 'at': '2023...  4    GDS   \n",
       "4  PT25H15M  [{'departure': {'iataCode': 'BER', 'at': '2023...  5    GDS   \n",
       "\n",
       "  first_dept_airport last_arr_airport      first_dept_time  \\\n",
       "0                BER              DEL  2023-12-04T11:50:00   \n",
       "1                BER              DEL  2023-12-04T06:00:00   \n",
       "2                BER              DEL  2023-12-04T06:00:00   \n",
       "3                BER              DEL  2023-12-04T21:10:00   \n",
       "4                BER              DEL  2023-12-04T21:10:00   \n",
       "\n",
       "         last_arr_time  \n",
       "0  2023-12-05T01:55:00  \n",
       "1  2023-12-05T01:10:00  \n",
       "2  2023-12-05T01:55:00  \n",
       "3  2023-12-06T01:10:00  \n",
       "4  2023-12-06T01:55:00  "
      ]
     },
     "execution_count": 111,
     "metadata": {},
     "output_type": "execute_result"
    }
   ],
   "source": [
    "itineraries_df.head()"
   ]
  },
  {
   "cell_type": "markdown",
   "metadata": {},
   "source": [
    "Trying to genearte unique id before exploding"
   ]
  },
  {
   "cell_type": "code",
   "execution_count": 112,
   "metadata": {},
   "outputs": [],
   "source": [
    "def generate_unique_id(row):\n",
    "    unique_string = f\"{row['id']}_{row['first_dept_airport']}_{row['last_arr_airport']}_{row['first_dept_time']}_{row['last_arr_time']}\"\n",
    "    unique_id = hashlib.md5(unique_string.encode()).hexdigest()\n",
    "    return unique_id\n",
    "\n",
    "itineraries_df['unique_id_fk'] = itineraries_df.apply(generate_unique_id, axis=1)"
   ]
  },
  {
   "cell_type": "markdown",
   "id": "93c03b0c",
   "metadata": {},
   "source": [
    "Treating the itineraries df"
   ]
  },
  {
   "cell_type": "markdown",
   "id": "a6026611",
   "metadata": {},
   "source": [
    "Just taking the exploded df and carefully scanning each row in the top 5 rows to see what kind of values does the exploded version of offer df contains\n",
    "exploded df\n",
    "df2\n",
    "df"
   ]
  },
  {
   "cell_type": "code",
   "execution_count": 113,
   "id": "c7db9495",
   "metadata": {},
   "outputs": [],
   "source": [
    "# Explode the 'segment' column to create separate rows for each dictionary\n",
    "exploded_df = itineraries_df.explode('segments')\n",
    "\n",
    "# Split the dictionary into columns  \n",
    "df2 = exploded_df['segments'].apply(pd.Series)\n",
    "\n",
    "# Merge the new columns back to the original DataFrame\n",
    "df = exploded_df.merge(df2, right_index=True, left_index=True, suffixes=('_original', '_segments'))\n",
    "\n",
    "# Drop the original dictionary column\n",
    "df = df.drop(columns=['segments']) \n",
    "df = df.rename(columns={'duration_original': 'duration_total','id_original':'offer_id'})"
   ]
  },
  {
   "cell_type": "code",
   "execution_count": 115,
   "id": "6af7f41b",
   "metadata": {},
   "outputs": [
    {
     "data": {
      "text/html": [
       "<div>\n",
       "<style scoped>\n",
       "    .dataframe tbody tr th:only-of-type {\n",
       "        vertical-align: middle;\n",
       "    }\n",
       "\n",
       "    .dataframe tbody tr th {\n",
       "        vertical-align: top;\n",
       "    }\n",
       "\n",
       "    .dataframe thead th {\n",
       "        text-align: right;\n",
       "    }\n",
       "</style>\n",
       "<table border=\"1\" class=\"dataframe\">\n",
       "  <thead>\n",
       "    <tr style=\"text-align: right;\">\n",
       "      <th></th>\n",
       "      <th>duration_total</th>\n",
       "      <th>offer_id</th>\n",
       "      <th>source</th>\n",
       "      <th>unique_id_fk</th>\n",
       "      <th>carrierCode</th>\n",
       "      <th>number</th>\n",
       "      <th>duration_segments</th>\n",
       "      <th>id_segments</th>\n",
       "      <th>numberOfStops</th>\n",
       "      <th>dept_airport</th>\n",
       "      <th>dept_at</th>\n",
       "      <th>arrival_airport</th>\n",
       "      <th>arrival_at</th>\n",
       "    </tr>\n",
       "  </thead>\n",
       "  <tbody>\n",
       "    <tr>\n",
       "      <th>0</th>\n",
       "      <td>PT10H35M</td>\n",
       "      <td>1</td>\n",
       "      <td>GDS</td>\n",
       "      <td>e121ce1a8cadf04cefb01199ffb4c48b</td>\n",
       "      <td>KL</td>\n",
       "      <td>1824</td>\n",
       "      <td>PT1H25M</td>\n",
       "      <td>106</td>\n",
       "      <td>0</td>\n",
       "      <td>BER</td>\n",
       "      <td>2023-12-04T11:50:00</td>\n",
       "      <td>AMS</td>\n",
       "      <td>2023-12-04T13:15:00</td>\n",
       "    </tr>\n",
       "    <tr>\n",
       "      <th>1</th>\n",
       "      <td>PT10H35M</td>\n",
       "      <td>1</td>\n",
       "      <td>GDS</td>\n",
       "      <td>e121ce1a8cadf04cefb01199ffb4c48b</td>\n",
       "      <td>KL</td>\n",
       "      <td>109</td>\n",
       "      <td>PT8H15M</td>\n",
       "      <td>107</td>\n",
       "      <td>0</td>\n",
       "      <td>AMS</td>\n",
       "      <td>2023-12-04T14:10:00</td>\n",
       "      <td>DEL</td>\n",
       "      <td>2023-12-05T01:55:00</td>\n",
       "    </tr>\n",
       "    <tr>\n",
       "      <th>2</th>\n",
       "      <td>PT14H40M</td>\n",
       "      <td>2</td>\n",
       "      <td>GDS</td>\n",
       "      <td>31a29598b1799c34014de0155cd74d0c</td>\n",
       "      <td>KL</td>\n",
       "      <td>1818</td>\n",
       "      <td>PT1H25M</td>\n",
       "      <td>124</td>\n",
       "      <td>0</td>\n",
       "      <td>BER</td>\n",
       "      <td>2023-12-04T06:00:00</td>\n",
       "      <td>AMS</td>\n",
       "      <td>2023-12-04T07:25:00</td>\n",
       "    </tr>\n",
       "    <tr>\n",
       "      <th>3</th>\n",
       "      <td>PT14H40M</td>\n",
       "      <td>2</td>\n",
       "      <td>GDS</td>\n",
       "      <td>31a29598b1799c34014de0155cd74d0c</td>\n",
       "      <td>KL</td>\n",
       "      <td>871</td>\n",
       "      <td>PT8H20M</td>\n",
       "      <td>125</td>\n",
       "      <td>0</td>\n",
       "      <td>AMS</td>\n",
       "      <td>2023-12-04T12:20:00</td>\n",
       "      <td>DEL</td>\n",
       "      <td>2023-12-05T01:10:00</td>\n",
       "    </tr>\n",
       "    <tr>\n",
       "      <th>4</th>\n",
       "      <td>PT16H25M</td>\n",
       "      <td>3</td>\n",
       "      <td>GDS</td>\n",
       "      <td>f7fa70a52ca2d57ede7f7958a18e7261</td>\n",
       "      <td>KL</td>\n",
       "      <td>1818</td>\n",
       "      <td>PT1H25M</td>\n",
       "      <td>92</td>\n",
       "      <td>0</td>\n",
       "      <td>BER</td>\n",
       "      <td>2023-12-04T06:00:00</td>\n",
       "      <td>AMS</td>\n",
       "      <td>2023-12-04T07:25:00</td>\n",
       "    </tr>\n",
       "  </tbody>\n",
       "</table>\n",
       "</div>"
      ],
      "text/plain": [
       "  duration_total offer_id source                      unique_id_fk  \\\n",
       "0       PT10H35M        1    GDS  e121ce1a8cadf04cefb01199ffb4c48b   \n",
       "1       PT10H35M        1    GDS  e121ce1a8cadf04cefb01199ffb4c48b   \n",
       "2       PT14H40M        2    GDS  31a29598b1799c34014de0155cd74d0c   \n",
       "3       PT14H40M        2    GDS  31a29598b1799c34014de0155cd74d0c   \n",
       "4       PT16H25M        3    GDS  f7fa70a52ca2d57ede7f7958a18e7261   \n",
       "\n",
       "  carrierCode number duration_segments id_segments  numberOfStops  \\\n",
       "0          KL   1824           PT1H25M         106              0   \n",
       "1          KL    109           PT8H15M         107              0   \n",
       "2          KL   1818           PT1H25M         124              0   \n",
       "3          KL    871           PT8H20M         125              0   \n",
       "4          KL   1818           PT1H25M          92              0   \n",
       "\n",
       "  dept_airport              dept_at arrival_airport           arrival_at  \n",
       "0          BER  2023-12-04T11:50:00             AMS  2023-12-04T13:15:00  \n",
       "1          AMS  2023-12-04T14:10:00             DEL  2023-12-05T01:55:00  \n",
       "2          BER  2023-12-04T06:00:00             AMS  2023-12-04T07:25:00  \n",
       "3          AMS  2023-12-04T12:20:00             DEL  2023-12-05T01:10:00  \n",
       "4          BER  2023-12-04T06:00:00             AMS  2023-12-04T07:25:00  "
      ]
     },
     "execution_count": 115,
     "metadata": {},
     "output_type": "execute_result"
    }
   ],
   "source": [
    "# Extract departure keys using apply\n",
    "df['dept_airport'] = df['departure'].apply(lambda x: x['iataCode'])\n",
    "df['dept_at'] = df['departure'].apply(lambda x: x['at'])\n",
    "df['arrival_airport'] = df['arrival'].apply(lambda x: x['iataCode'])\n",
    "df['arrival_at'] = df['arrival'].apply(lambda x: x['at'])\n",
    "df['aircraft'] = df['aircraft'].apply(lambda x: x['code'])\n",
    "df.head()\n",
    "# Drop stops column if it exists\n",
    "column_to_drop = 'stops'\n",
    "if column_to_drop in df.columns:\n",
    "    df.drop(column_to_drop,axis=1,inplace=True)\n",
    "itineraries_df = df.drop(columns=['departure','arrival','operating','aircraft','blacklistedInEU','first_dept_airport','last_arr_airport','first_dept_time','last_arr_time'])\n",
    "\n",
    "itineraries_df = itineraries_df.drop_duplicates()\n",
    "# Reset index\n",
    "itineraries_df = itineraries_df.reset_index(drop=True)\n",
    "itineraries_df.head()"
   ]
  },
  {
   "cell_type": "code",
   "execution_count": 117,
   "metadata": {},
   "outputs": [],
   "source": [
    "itineraries_df['segment_key'] = itineraries_df['unique_id_fk'].astype(str) + '_' + itineraries_df['id_segments'].astype(str)\n"
   ]
  },
  {
   "cell_type": "markdown",
   "metadata": {},
   "source": [
    "Create unique id for segments df"
   ]
  },
  {
   "cell_type": "markdown",
   "id": "46767a8a",
   "metadata": {},
   "source": [
    "Renaming, reordering and changing datatypes"
   ]
  },
  {
   "cell_type": "code",
   "execution_count": 118,
   "id": "46de45ef",
   "metadata": {},
   "outputs": [],
   "source": [
    "# Rename the columns according to the SQL table schema\n",
    "itineraries_df = itineraries_df.rename(columns={\n",
    "    'source': 'source',\n",
    "    'duration_segments': 'duration_segments',\n",
    "    'duration_total': 'duration_total',\n",
    "    'carrierCode': 'carrier_code',\n",
    "    'number': 'number',\n",
    "    'duration_segments': 'duration_segments',\n",
    "    'numberOfStops': 'number_of_stops',\n",
    "    'dept_airport': 'dept_airport',\n",
    "    'dept_at': 'dept_at',\n",
    "    'arrival_airport': 'arrival_airport',\n",
    "    'arrival_at': 'arrival_at'\n",
    "})\n",
    "\n",
    "# Ensure data types are set correctly\n",
    "itineraries_df['offer_id'] = itineraries_df['offer_id'].astype(int)\n",
    "itineraries_df['number_of_stops'] = itineraries_df['number_of_stops'].astype(int)\n",
    "itineraries_df['dept_at'] = pd.to_datetime(itineraries_df['dept_at'])\n",
    "itineraries_df['arrival_at'] = pd.to_datetime(itineraries_df['arrival_at'])\n",
    "\n",
    "now = datetime.now()\n",
    "itineraries_df['incremental_day']=now\n",
    "itineraries_df['incremental_day'] = pd.to_datetime(itineraries_df['incremental_day'])\n"
   ]
  },
  {
   "cell_type": "code",
   "execution_count": 119,
   "id": "e8edd468",
   "metadata": {},
   "outputs": [
    {
     "name": "stderr",
     "output_type": "stream",
     "text": [
      "INFO-__main__:1-Current date: 2023-11-04 22:29:52.018577\n"
     ]
    }
   ],
   "source": [
    "logger.info(f'Current date: {now}')"
   ]
  },
  {
   "cell_type": "code",
   "execution_count": 120,
   "metadata": {},
   "outputs": [
    {
     "data": {
      "text/html": [
       "<div>\n",
       "<style scoped>\n",
       "    .dataframe tbody tr th:only-of-type {\n",
       "        vertical-align: middle;\n",
       "    }\n",
       "\n",
       "    .dataframe tbody tr th {\n",
       "        vertical-align: top;\n",
       "    }\n",
       "\n",
       "    .dataframe thead th {\n",
       "        text-align: right;\n",
       "    }\n",
       "</style>\n",
       "<table border=\"1\" class=\"dataframe\">\n",
       "  <thead>\n",
       "    <tr style=\"text-align: right;\">\n",
       "      <th></th>\n",
       "      <th>duration_total</th>\n",
       "      <th>offer_id</th>\n",
       "      <th>source</th>\n",
       "      <th>unique_id_fk</th>\n",
       "      <th>carrier_code</th>\n",
       "      <th>number</th>\n",
       "      <th>duration_segments</th>\n",
       "      <th>id_segments</th>\n",
       "      <th>number_of_stops</th>\n",
       "      <th>dept_airport</th>\n",
       "      <th>dept_at</th>\n",
       "      <th>arrival_airport</th>\n",
       "      <th>arrival_at</th>\n",
       "      <th>segment_key</th>\n",
       "      <th>incremental_day</th>\n",
       "    </tr>\n",
       "  </thead>\n",
       "  <tbody>\n",
       "    <tr>\n",
       "      <th>0</th>\n",
       "      <td>PT10H35M</td>\n",
       "      <td>1</td>\n",
       "      <td>GDS</td>\n",
       "      <td>e121ce1a8cadf04cefb01199ffb4c48b</td>\n",
       "      <td>KL</td>\n",
       "      <td>1824</td>\n",
       "      <td>PT1H25M</td>\n",
       "      <td>106</td>\n",
       "      <td>0</td>\n",
       "      <td>BER</td>\n",
       "      <td>2023-12-04 11:50:00</td>\n",
       "      <td>AMS</td>\n",
       "      <td>2023-12-04 13:15:00</td>\n",
       "      <td>e121ce1a8cadf04cefb01199ffb4c48b_106</td>\n",
       "      <td>2023-11-04 22:29:52.018577</td>\n",
       "    </tr>\n",
       "    <tr>\n",
       "      <th>1</th>\n",
       "      <td>PT10H35M</td>\n",
       "      <td>1</td>\n",
       "      <td>GDS</td>\n",
       "      <td>e121ce1a8cadf04cefb01199ffb4c48b</td>\n",
       "      <td>KL</td>\n",
       "      <td>109</td>\n",
       "      <td>PT8H15M</td>\n",
       "      <td>107</td>\n",
       "      <td>0</td>\n",
       "      <td>AMS</td>\n",
       "      <td>2023-12-04 14:10:00</td>\n",
       "      <td>DEL</td>\n",
       "      <td>2023-12-05 01:55:00</td>\n",
       "      <td>e121ce1a8cadf04cefb01199ffb4c48b_107</td>\n",
       "      <td>2023-11-04 22:29:52.018577</td>\n",
       "    </tr>\n",
       "    <tr>\n",
       "      <th>2</th>\n",
       "      <td>PT14H40M</td>\n",
       "      <td>2</td>\n",
       "      <td>GDS</td>\n",
       "      <td>31a29598b1799c34014de0155cd74d0c</td>\n",
       "      <td>KL</td>\n",
       "      <td>1818</td>\n",
       "      <td>PT1H25M</td>\n",
       "      <td>124</td>\n",
       "      <td>0</td>\n",
       "      <td>BER</td>\n",
       "      <td>2023-12-04 06:00:00</td>\n",
       "      <td>AMS</td>\n",
       "      <td>2023-12-04 07:25:00</td>\n",
       "      <td>31a29598b1799c34014de0155cd74d0c_124</td>\n",
       "      <td>2023-11-04 22:29:52.018577</td>\n",
       "    </tr>\n",
       "    <tr>\n",
       "      <th>3</th>\n",
       "      <td>PT14H40M</td>\n",
       "      <td>2</td>\n",
       "      <td>GDS</td>\n",
       "      <td>31a29598b1799c34014de0155cd74d0c</td>\n",
       "      <td>KL</td>\n",
       "      <td>871</td>\n",
       "      <td>PT8H20M</td>\n",
       "      <td>125</td>\n",
       "      <td>0</td>\n",
       "      <td>AMS</td>\n",
       "      <td>2023-12-04 12:20:00</td>\n",
       "      <td>DEL</td>\n",
       "      <td>2023-12-05 01:10:00</td>\n",
       "      <td>31a29598b1799c34014de0155cd74d0c_125</td>\n",
       "      <td>2023-11-04 22:29:52.018577</td>\n",
       "    </tr>\n",
       "    <tr>\n",
       "      <th>4</th>\n",
       "      <td>PT16H25M</td>\n",
       "      <td>3</td>\n",
       "      <td>GDS</td>\n",
       "      <td>f7fa70a52ca2d57ede7f7958a18e7261</td>\n",
       "      <td>KL</td>\n",
       "      <td>1818</td>\n",
       "      <td>PT1H25M</td>\n",
       "      <td>92</td>\n",
       "      <td>0</td>\n",
       "      <td>BER</td>\n",
       "      <td>2023-12-04 06:00:00</td>\n",
       "      <td>AMS</td>\n",
       "      <td>2023-12-04 07:25:00</td>\n",
       "      <td>f7fa70a52ca2d57ede7f7958a18e7261_92</td>\n",
       "      <td>2023-11-04 22:29:52.018577</td>\n",
       "    </tr>\n",
       "  </tbody>\n",
       "</table>\n",
       "</div>"
      ],
      "text/plain": [
       "  duration_total  offer_id source                      unique_id_fk  \\\n",
       "0       PT10H35M         1    GDS  e121ce1a8cadf04cefb01199ffb4c48b   \n",
       "1       PT10H35M         1    GDS  e121ce1a8cadf04cefb01199ffb4c48b   \n",
       "2       PT14H40M         2    GDS  31a29598b1799c34014de0155cd74d0c   \n",
       "3       PT14H40M         2    GDS  31a29598b1799c34014de0155cd74d0c   \n",
       "4       PT16H25M         3    GDS  f7fa70a52ca2d57ede7f7958a18e7261   \n",
       "\n",
       "  carrier_code number duration_segments id_segments  number_of_stops  \\\n",
       "0           KL   1824           PT1H25M         106                0   \n",
       "1           KL    109           PT8H15M         107                0   \n",
       "2           KL   1818           PT1H25M         124                0   \n",
       "3           KL    871           PT8H20M         125                0   \n",
       "4           KL   1818           PT1H25M          92                0   \n",
       "\n",
       "  dept_airport             dept_at arrival_airport          arrival_at  \\\n",
       "0          BER 2023-12-04 11:50:00             AMS 2023-12-04 13:15:00   \n",
       "1          AMS 2023-12-04 14:10:00             DEL 2023-12-05 01:55:00   \n",
       "2          BER 2023-12-04 06:00:00             AMS 2023-12-04 07:25:00   \n",
       "3          AMS 2023-12-04 12:20:00             DEL 2023-12-05 01:10:00   \n",
       "4          BER 2023-12-04 06:00:00             AMS 2023-12-04 07:25:00   \n",
       "\n",
       "                            segment_key            incremental_day  \n",
       "0  e121ce1a8cadf04cefb01199ffb4c48b_106 2023-11-04 22:29:52.018577  \n",
       "1  e121ce1a8cadf04cefb01199ffb4c48b_107 2023-11-04 22:29:52.018577  \n",
       "2  31a29598b1799c34014de0155cd74d0c_124 2023-11-04 22:29:52.018577  \n",
       "3  31a29598b1799c34014de0155cd74d0c_125 2023-11-04 22:29:52.018577  \n",
       "4   f7fa70a52ca2d57ede7f7958a18e7261_92 2023-11-04 22:29:52.018577  "
      ]
     },
     "execution_count": 120,
     "metadata": {},
     "output_type": "execute_result"
    }
   ],
   "source": [
    "itineraries_df.head()"
   ]
  },
  {
   "cell_type": "markdown",
   "metadata": {},
   "source": [
    "Segment key unique check"
   ]
  },
  {
   "cell_type": "markdown",
   "id": "2464c9bd",
   "metadata": {},
   "source": [
    "Finding out which columns in a dataframe are lists "
   ]
  },
  {
   "cell_type": "code",
   "execution_count": 18,
   "id": "fbb5abba",
   "metadata": {},
   "outputs": [],
   "source": [
    "# Assuming deduplicated_df is your DataFrame\n",
    "# list_columns = []\n",
    "\n",
    "# for column in final_df.columns:\n",
    "#     if final_df[column].apply(lambda x: isinstance(x, list)).any():\n",
    "#         list_columns.append(column)\n",
    "\n",
    "# print(\"Columns with lists:\", list_columns)"
   ]
  },
  {
   "cell_type": "markdown",
   "id": "a39e311f",
   "metadata": {},
   "source": [
    "Treating traveler_pricing_df"
   ]
  },
  {
   "cell_type": "code",
   "execution_count": 48,
   "id": "77ac0dc1",
   "metadata": {},
   "outputs": [],
   "source": [
    "# Explode the 'segment' column to create separate rows for each dictionary\n",
    "exploded_df = traveler_pricing_df.explode('fareDetailsBySegment')\n",
    "\n",
    "# Apply json_normalize to the 'segment' column to split dictionaries into separate columns\n",
    "normalized_df = json_normalize(exploded_df['fareDetailsBySegment']).add_suffix('_fare')\n",
    "\n",
    "# Join the exploded and normalized DataFrames\n",
    "final_df = exploded_df.drop('fareDetailsBySegment', axis=1).join(normalized_df)\n",
    "\n",
    "# Drop duplicates based on all columns to deduplicate the DataFrame\n",
    "deduplicated_df = final_df.drop_duplicates()\n",
    "\n",
    "# # If you want to reset the index of the deduplicated DataFrame\n",
    "deduplicated_df.reset_index(drop=True, inplace=True)\n",
    "# deduplicated_df=deduplicated_df.drop(columns=['id_segments'])\n",
    "\n",
    "# # Remove the added '_segment' suffix from column names\n",
    "deduplicated_df.columns = deduplicated_df.columns.str.replace('_fare$', '', regex=True)\n",
    "\n",
    "# #replace . in column anmes by underscore\n",
    "deduplicated_df.columns = deduplicated_df.columns.str.replace('.', '_', regex=False)\n",
    "\n",
    "# #Assigning to itineraries df\n",
    "traveler_pricing_df = deduplicated_df\n",
    "\n",
    "# #drop unwanted columns \n",
    "traveler_pricing_df=traveler_pricing_df.drop(columns=['fareBasis','class','brandedFare'])\n",
    "\n"
   ]
  },
  {
   "cell_type": "markdown",
   "id": "fee74de9",
   "metadata": {},
   "source": [
    "---------------------------------------------------"
   ]
  },
  {
   "cell_type": "markdown",
   "id": "ddb73b11",
   "metadata": {},
   "source": [
    "Renaming, reordering and changing datatypes"
   ]
  },
  {
   "cell_type": "code",
   "execution_count": 49,
   "id": "28554477",
   "metadata": {},
   "outputs": [],
   "source": [
    "# Rename the columns according to the SQL table schema\n",
    "traveler_pricing_df = traveler_pricing_df.rename(columns={\n",
    "    'travelerId': 'traveler_id',\n",
    "    'fareOption': 'fare_option',\n",
    "    'travelerType': 'traveler_type',\n",
    "    'price_currency': 'price_currency',\n",
    "    'price_total': 'price_total',\n",
    "    'price_base': 'price_base',\n",
    "    'id': 'id',\n",
    "    'source': 'source',\n",
    "    'segmentId': 'segment_id',\n",
    "    'cabin': 'cabin',\n",
    "    'includedCheckedBags_quantity': 'included_checkedbags_quantity',\n",
    "    'includedCheckedBags_weight': 'included_checkedbags_weight',\n",
    "    'includedCheckedBags_weightUnit': 'included_checkedbags_unit',\n",
    "    'incremental_day': 'incremental_day'\n",
    "})\n",
    "\n",
    "# Change the data types of relevant columns\n",
    "traveler_pricing_df['price_total'] = traveler_pricing_df['price_total'].astype(float)\n",
    "traveler_pricing_df['price_base'] = traveler_pricing_df['price_base'].astype(float)\n",
    "traveler_pricing_df['id'] = traveler_pricing_df['id'].astype(int)\n",
    "traveler_pricing_df['segment_id'] = traveler_pricing_df['segment_id'].astype(int)\n",
    "traveler_pricing_df['included_checkedbags_quantity'] = traveler_pricing_df['included_checkedbags_quantity'].astype(float)\n",
    "\n",
    "\n",
    "# Ensure data types are set correctly\n",
    "traveler_pricing_df['incremental_day'] =now\n",
    "traveler_pricing_df['incremental_day'] = pd.to_datetime(traveler_pricing_df['incremental_day'])\n"
   ]
  },
  {
   "cell_type": "code",
   "execution_count": 51,
   "id": "96ba399a",
   "metadata": {},
   "outputs": [
    {
     "name": "stderr",
     "output_type": "stream",
     "text": [
      "INFO-db_manager:27-CONNECTED\n",
      "INFO-db_manager:73-Dumped to DB\n",
      "INFO-db_manager:73-Dumped to DB\n"
     ]
    }
   ],
   "source": [
    "credentials=config.pg_credentials\n",
    "db = DBManager(credentials=credentials)\n",
    "db.create_table_from_df(df=itineraries_df,table_name='itineraries')\n",
    "db.create_table_from_df(df=traveler_pricing_df,table_name='traveler_pricing')"
   ]
  }
 ],
 "metadata": {
  "kernelspec": {
   "display_name": "Python 3 (ipykernel)",
   "language": "python",
   "name": "python3"
  },
  "language_info": {
   "codemirror_mode": {
    "name": "ipython",
    "version": 3
   },
   "file_extension": ".py",
   "mimetype": "text/x-python",
   "name": "python",
   "nbconvert_exporter": "python",
   "pygments_lexer": "ipython3",
   "version": "3.9.7"
  }
 },
 "nbformat": 4,
 "nbformat_minor": 5
}
