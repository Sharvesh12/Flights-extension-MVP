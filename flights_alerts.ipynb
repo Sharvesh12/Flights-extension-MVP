{
 "cells": [
  {
   "cell_type": "code",
   "execution_count": 39,
   "id": "4ef3bc25",
   "metadata": {},
   "outputs": [],
   "source": [
    "import requests\n",
    "import json\n",
    "import pandas as pd\n",
    "from pandas import json_normalize\n",
    "import config\n",
    "from db_manager import DBManager\n",
    "import os\n",
    "from rest_api import Api\n",
    "from datetime import date, datetime\n",
    "from dateutil.relativedelta import relativedelta\n",
    "from urllib.parse import quote_plus\n",
    "from sqlalchemy import create_engine\n",
    "import itertools\n",
    "import logging"
   ]
  },
  {
   "cell_type": "code",
   "execution_count": 40,
   "id": "dce43a1c",
   "metadata": {},
   "outputs": [],
   "source": [
    "logging.basicConfig(\n",
    "    format='%(levelname)s-%(lineno)s-%(message)s',\n",
    "    datefmt='%Y-%m-%d %H:%M:%S',\n",
    "    level='INFO'\n",
    ")\n",
    "logger=logging.getLogger(__name__)"
   ]
  },
  {
   "cell_type": "markdown",
   "id": "e031de87",
   "metadata": {},
   "source": [
    "#### Show all columns without truncating"
   ]
  },
  {
   "cell_type": "markdown",
   "id": "3a2111e1",
   "metadata": {},
   "source": [
    "Today's date"
   ]
  },
  {
   "cell_type": "code",
   "execution_count": 41,
   "id": "7a6455f9",
   "metadata": {},
   "outputs": [
    {
     "name": "stderr",
     "output_type": "stream",
     "text": [
      "INFO-__main__:2-Current date: 2023-10-17\n"
     ]
    }
   ],
   "source": [
    "today = date.today()\n",
    "logger.info(f'Current date: {today}')"
   ]
  },
  {
   "cell_type": "markdown",
   "id": "1821b741",
   "metadata": {},
   "source": [
    "Adding months to today's date. Near term travel dates 30 - 60 days ahead"
   ]
  },
  {
   "cell_type": "code",
   "execution_count": 42,
   "id": "15c6c73d",
   "metadata": {},
   "outputs": [
    {
     "name": "stderr",
     "output_type": "stream",
     "text": [
      "INFO-__main__:5-Departure_dates:2023-11-17 and 2023-12-17 \n",
      "Return dates:2023-12-17 and 2024-01-17\n"
     ]
    }
   ],
   "source": [
    "departure_date_1_month = today + relativedelta(months=1)\n",
    "departure_date_2_month = today + relativedelta(months=2)\n",
    "return_date_1_month = departure_date_2_month\n",
    "return_date_2_month = today + relativedelta(months=3)\n",
    "logger.info(f'Departure_dates:{departure_date_1_month} and {departure_date_2_month} \\nReturn dates:{return_date_1_month} and {return_date_2_month}')"
   ]
  },
  {
   "cell_type": "markdown",
   "id": "3b8dab2b",
   "metadata": {},
   "source": [
    "Get the nearby festival departure dates by start_date from the public.indian_holidays table"
   ]
  },
  {
   "cell_type": "code",
   "execution_count": 43,
   "id": "0d09bcf9",
   "metadata": {},
   "outputs": [],
   "source": [
    "# credentials=config.pg_credentials\n",
    "# db = DBManager(credentials=credentials)\n",
    "# df_departure_arrival_dates = db.run_query(query_file_name='festival_dates')"
   ]
  },
  {
   "cell_type": "code",
   "execution_count": 44,
   "id": "b0b746da",
   "metadata": {},
   "outputs": [],
   "source": [
    "#df_departure_arrival_dates "
   ]
  },
  {
   "cell_type": "markdown",
   "id": "d0d872d1",
   "metadata": {},
   "source": [
    "Apply the combination of params to get data for all possible combinations of depart, arrival dates and depart arrival airports"
   ]
  },
  {
   "cell_type": "markdown",
   "id": "8144963f",
   "metadata": {},
   "source": [
    "Combination itertools usage. Im calculating the total combinations by multiplying the number of possibilities (unique values) for each variable<br />\n",
    "Departure airport: 2 possibilities<br />\n",
    "Arrival airport: 4 possibilities<br />\n",
    "Departure date: 2 possibilities<br />\n",
    "Arrival date: 1 possibilities<br />\n",
    "Total combinations = 2 x 4 x 2 x 1 = 16 combinations"
   ]
  },
  {
   "cell_type": "markdown",
   "id": "71e128a2",
   "metadata": {},
   "source": [
    "#### Travel payouts API to get flight search results for each combination in the list "
   ]
  },
  {
   "cell_type": "markdown",
   "id": "8058c0cf",
   "metadata": {},
   "source": [
    "--------------------------------------------------------"
   ]
  },
  {
   "cell_type": "markdown",
   "id": "fca752f6",
   "metadata": {},
   "source": [
    "API test for amadeus"
   ]
  },
  {
   "cell_type": "markdown",
   "id": "a235c41a",
   "metadata": {},
   "source": [
    "POST request to the Amadeus authorization server to get the access token"
   ]
  },
  {
   "cell_type": "code",
   "execution_count": 45,
   "id": "f0dc9be9",
   "metadata": {},
   "outputs": [
    {
     "name": "stderr",
     "output_type": "stream",
     "text": [
      "INFO-__main__:6-Successful access token generation\n"
     ]
    }
   ],
   "source": [
    "response = requests.post(url=config.url_token, headers=config.headers_token, data=config.data)\n",
    "\n",
    "if response.status_code == 200:\n",
    "  # API call succeeded\n",
    "  token = response.json()['access_token'] \n",
    "  logger.info('Successful access token generation')\n",
    "else:\n",
    "  # API call failed\n",
    "  print(response.text)"
   ]
  },
  {
   "cell_type": "code",
   "execution_count": 46,
   "id": "b89d1abd",
   "metadata": {},
   "outputs": [],
   "source": [
    "#Combinations of destination and origin airport codes\n",
    "origins = config.params['originLocationCode']\n",
    "destinations = config.params['destinationLocationCode']\n",
    "departure_dates=[departure_date_1_month,departure_date_2_month]\n",
    "# return_dates=[return_date_1_month,return_date_2_month]"
   ]
  },
  {
   "cell_type": "markdown",
   "id": "f7771296",
   "metadata": {},
   "source": [
    "Creating combinations of Origin and Destination to be passed as parameters to the api call"
   ]
  },
  {
   "cell_type": "markdown",
   "id": "c5ba676b",
   "metadata": {},
   "source": [
    "trial"
   ]
  },
  {
   "cell_type": "code",
   "execution_count": 47,
   "id": "bf314de2",
   "metadata": {},
   "outputs": [
    {
     "name": "stderr",
     "output_type": "stream",
     "text": [
      "INFO-__main__:35-API call 1 succeeded for flight offers\n",
      "INFO-__main__:35-API call 2 succeeded for flight offers\n",
      "INFO-__main__:35-API call 3 succeeded for flight offers\n",
      "INFO-__main__:35-API call 4 succeeded for flight offers\n",
      "INFO-__main__:35-API call 5 succeeded for flight offers\n",
      "INFO-__main__:35-API call 6 succeeded for flight offers\n",
      "INFO-__main__:35-API call 7 succeeded for flight offers\n",
      "INFO-__main__:35-API call 8 succeeded for flight offers\n",
      "INFO-__main__:35-API call 9 succeeded for flight offers\n",
      "INFO-__main__:35-API call 10 succeeded for flight offers\n",
      "INFO-__main__:35-API call 11 succeeded for flight offers\n",
      "INFO-__main__:35-API call 12 succeeded for flight offers\n",
      "INFO-__main__:35-API call 13 succeeded for flight offers\n",
      "INFO-__main__:35-API call 14 succeeded for flight offers\n",
      "INFO-__main__:35-API call 15 succeeded for flight offers\n",
      "INFO-__main__:35-API call 16 succeeded for flight offers\n"
     ]
    }
   ],
   "source": [
    "headers = {\n",
    "  'client_id': config.client_id, \n",
    "  'client_secret': config.client_secret,\n",
    "  'Authorization': f'Bearer {token}'\n",
    "  }\n",
    "\n",
    "url = config.url\n",
    "\n",
    "response = []\n",
    "counter = 0\n",
    "\n",
    "for origin, dest, depart in itertools.product(origins, destinations, departure_dates):\n",
    "\n",
    "    params={\n",
    "        'originLocationCode': origin,\n",
    "        'destinationLocationCode':dest, \n",
    "        'departureDate': depart, \n",
    "        'returnDate' : None,\n",
    "        'adults':1,\n",
    "        'children':None,\n",
    "        'infants':None,\n",
    "        'travelClass':None,\n",
    "        'currencyCode':'EUR',\n",
    "        'maxPrice' : None\n",
    "        }\n",
    "\n",
    "\n",
    "    #to be worked on later for by calling rest_api module\n",
    "    # api = Api()\n",
    "    # resp = api.make_flight_api_request(url,headers,params)\n",
    "    resp = requests.get(url, headers=headers, params=params)\n",
    "    counter = counter+1\n",
    "    resp = resp.json()\n",
    "    response.append(resp)\n",
    "    logger.info(f'API call {counter} succeeded for flight offers')\n",
    "    # else:\n",
    "    #     # API call failed\n",
    "    #     logger.info('API call failed')\n"
   ]
  },
  {
   "cell_type": "markdown",
   "id": "5ff80cd7",
   "metadata": {},
   "source": [
    "Convert that sample nested JSON data into separate DataFrames"
   ]
  },
  {
   "cell_type": "code",
   "execution_count": 81,
   "id": "c3905289",
   "metadata": {},
   "outputs": [],
   "source": [
    "# Flight offers DataFrame\n",
    "for r in response: \n",
    "    offers_df = pd.DataFrame(r['data'])\n",
    "    # Itineraries DataFrame\n",
    "    itineraries_df = pd.json_normalize(r['data'], record_path='itineraries', meta=['id', 'source'])\n",
    "    # # Traveler pricing DataFrame\n",
    "    traveler_pricing_df = pd.json_normalize(r['data'], record_path=['travelerPricings'], meta=['id', 'source'])\n"
   ]
  },
  {
   "cell_type": "markdown",
   "id": "93c03b0c",
   "metadata": {},
   "source": [
    "Treating the itineraries df"
   ]
  },
  {
   "cell_type": "code",
   "execution_count": 82,
   "id": "c7db9495",
   "metadata": {},
   "outputs": [],
   "source": [
    "# Explode the 'segment' column to create separate rows for each dictionary\n",
    "exploded_df = itineraries_df.explode('segments')\n",
    "\n",
    "# Split the dictionary into columns  \n",
    "df2 = exploded_df['segments'].apply(pd.Series)\n",
    "\n",
    "# Merge the new columns back to the original DataFrame\n",
    "df = exploded_df.merge(df2, right_index=True, left_index=True, suffixes=('_original', '_segments'))\n",
    "\n",
    "# Drop the original dictionary column\n",
    "df = df.drop(columns=['segments']) \n",
    "df = df.rename(columns={'duration_original': 'duration_total'})"
   ]
  },
  {
   "cell_type": "code",
   "execution_count": 83,
   "id": "6af7f41b",
   "metadata": {},
   "outputs": [
    {
     "data": {
      "text/html": [
       "<div>\n",
       "<style scoped>\n",
       "    .dataframe tbody tr th:only-of-type {\n",
       "        vertical-align: middle;\n",
       "    }\n",
       "\n",
       "    .dataframe tbody tr th {\n",
       "        vertical-align: top;\n",
       "    }\n",
       "\n",
       "    .dataframe thead th {\n",
       "        text-align: right;\n",
       "    }\n",
       "</style>\n",
       "<table border=\"1\" class=\"dataframe\">\n",
       "  <thead>\n",
       "    <tr style=\"text-align: right;\">\n",
       "      <th></th>\n",
       "      <th>duration_total</th>\n",
       "      <th>id_original</th>\n",
       "      <th>source</th>\n",
       "      <th>carrierCode</th>\n",
       "      <th>number</th>\n",
       "      <th>duration_segments</th>\n",
       "      <th>numberOfStops</th>\n",
       "      <th>dept_airport</th>\n",
       "      <th>dept_at</th>\n",
       "      <th>arrival_airport</th>\n",
       "      <th>arrival_at</th>\n",
       "    </tr>\n",
       "  </thead>\n",
       "  <tbody>\n",
       "    <tr>\n",
       "      <th>0</th>\n",
       "      <td>PT12H10M</td>\n",
       "      <td>1</td>\n",
       "      <td>GDS</td>\n",
       "      <td>AI</td>\n",
       "      <td>120</td>\n",
       "      <td>PT7H35M</td>\n",
       "      <td>0</td>\n",
       "      <td>FRA</td>\n",
       "      <td>2023-12-17T20:10:00</td>\n",
       "      <td>DEL</td>\n",
       "      <td>2023-12-18T08:15:00</td>\n",
       "    </tr>\n",
       "    <tr>\n",
       "      <th>1</th>\n",
       "      <td>PT12H10M</td>\n",
       "      <td>1</td>\n",
       "      <td>GDS</td>\n",
       "      <td>AI</td>\n",
       "      <td>429</td>\n",
       "      <td>PT2H55M</td>\n",
       "      <td>0</td>\n",
       "      <td>DEL</td>\n",
       "      <td>2023-12-18T09:55:00</td>\n",
       "      <td>MAA</td>\n",
       "      <td>2023-12-18T12:50:00</td>\n",
       "    </tr>\n",
       "    <tr>\n",
       "      <th>2</th>\n",
       "      <td>PT14H5M</td>\n",
       "      <td>2</td>\n",
       "      <td>GDS</td>\n",
       "      <td>AI</td>\n",
       "      <td>120</td>\n",
       "      <td>PT7H35M</td>\n",
       "      <td>0</td>\n",
       "      <td>FRA</td>\n",
       "      <td>2023-12-17T20:10:00</td>\n",
       "      <td>DEL</td>\n",
       "      <td>2023-12-18T08:15:00</td>\n",
       "    </tr>\n",
       "    <tr>\n",
       "      <th>3</th>\n",
       "      <td>PT14H5M</td>\n",
       "      <td>2</td>\n",
       "      <td>GDS</td>\n",
       "      <td>AI</td>\n",
       "      <td>554</td>\n",
       "      <td>PT2H45M</td>\n",
       "      <td>0</td>\n",
       "      <td>DEL</td>\n",
       "      <td>2023-12-18T12:00:00</td>\n",
       "      <td>MAA</td>\n",
       "      <td>2023-12-18T14:45:00</td>\n",
       "    </tr>\n",
       "    <tr>\n",
       "      <th>4</th>\n",
       "      <td>PT18H35M</td>\n",
       "      <td>3</td>\n",
       "      <td>GDS</td>\n",
       "      <td>AI</td>\n",
       "      <td>120</td>\n",
       "      <td>PT7H35M</td>\n",
       "      <td>0</td>\n",
       "      <td>FRA</td>\n",
       "      <td>2023-12-17T20:10:00</td>\n",
       "      <td>DEL</td>\n",
       "      <td>2023-12-18T08:15:00</td>\n",
       "    </tr>\n",
       "  </tbody>\n",
       "</table>\n",
       "</div>"
      ],
      "text/plain": [
       "  duration_total id_original source carrierCode number duration_segments  \\\n",
       "0       PT12H10M           1    GDS          AI    120           PT7H35M   \n",
       "1       PT12H10M           1    GDS          AI    429           PT2H55M   \n",
       "2        PT14H5M           2    GDS          AI    120           PT7H35M   \n",
       "3        PT14H5M           2    GDS          AI    554           PT2H45M   \n",
       "4       PT18H35M           3    GDS          AI    120           PT7H35M   \n",
       "\n",
       "   numberOfStops dept_airport              dept_at arrival_airport  \\\n",
       "0              0          FRA  2023-12-17T20:10:00             DEL   \n",
       "1              0          DEL  2023-12-18T09:55:00             MAA   \n",
       "2              0          FRA  2023-12-17T20:10:00             DEL   \n",
       "3              0          DEL  2023-12-18T12:00:00             MAA   \n",
       "4              0          FRA  2023-12-17T20:10:00             DEL   \n",
       "\n",
       "            arrival_at  \n",
       "0  2023-12-18T08:15:00  \n",
       "1  2023-12-18T12:50:00  \n",
       "2  2023-12-18T08:15:00  \n",
       "3  2023-12-18T14:45:00  \n",
       "4  2023-12-18T08:15:00  "
      ]
     },
     "execution_count": 83,
     "metadata": {},
     "output_type": "execute_result"
    }
   ],
   "source": [
    "# Extract departure keys using apply\n",
    "df['dept_airport'] = df['departure'].apply(lambda x: x['iataCode'])\n",
    "df['dept_at'] = df['departure'].apply(lambda x: x['at'])\n",
    "df['arrival_airport'] = df['arrival'].apply(lambda x: x['iataCode'])\n",
    "df['arrival_at'] = df['arrival'].apply(lambda x: x['at'])\n",
    "df['aircraft'] = df['aircraft'].apply(lambda x: x['code'])\n",
    "df.head()\n",
    "# Drop stops column if it exists\n",
    "column_to_drop = 'stops'\n",
    "if column_to_drop in df.columns:\n",
    "    df.drop(column_to_drop,axis=1,inplace=True)\n",
    "itineraries_df = df.drop(columns=['departure','arrival','operating','aircraft','blacklistedInEU','id_segments'])\n",
    "\n",
    "itineraries_df = itineraries_df.drop_duplicates()\n",
    "# Reset index\n",
    "itineraries_df = itineraries_df.reset_index(drop=True)\n",
    "itineraries_df.head()"
   ]
  },
  {
   "cell_type": "markdown",
   "id": "46767a8a",
   "metadata": {},
   "source": [
    "Renaming, reordering and changing datatypes"
   ]
  },
  {
   "cell_type": "code",
   "execution_count": 84,
   "id": "46de45ef",
   "metadata": {},
   "outputs": [],
   "source": [
    "# Rename the columns according to the SQL table schema\n",
    "itineraries_df = itineraries_df.rename(columns={\n",
    "    'id_original': 'id_original',\n",
    "    'source': 'source',\n",
    "    'duration_segments': 'duration_segments',\n",
    "    'duration_total': 'duration_total',\n",
    "    'carrierCode': 'carrier_code',\n",
    "    'number': 'number',\n",
    "    'duration_segments': 'duration_segments',\n",
    "    'numberOfStops': 'number_of_stops',\n",
    "    'dept_airport': 'dept_airport',\n",
    "    'dept_at': 'dept_at',\n",
    "    'arrival_airport': 'arrival_airport',\n",
    "    'arrival_at': 'arrival_at'\n",
    "})\n",
    "\n",
    "# Ensure data types are set correctly\n",
    "itineraries_df['id_original'] = itineraries_df['id_original'].astype(int)\n",
    "itineraries_df['number_of_stops'] = itineraries_df['number_of_stops'].astype(int)\n",
    "itineraries_df['dept_at'] = pd.to_datetime(itineraries_df['dept_at'])\n",
    "itineraries_df['arrival_at'] = pd.to_datetime(itineraries_df['arrival_at'])\n",
    "\n",
    "now = datetime.now()\n",
    "itineraries_df['incremental_day']=now\n",
    "itineraries_df['incremental_day'] = pd.to_datetime(itineraries_df['incremental_day'])\n"
   ]
  },
  {
   "cell_type": "code",
   "execution_count": 85,
   "id": "e8edd468",
   "metadata": {},
   "outputs": [
    {
     "name": "stderr",
     "output_type": "stream",
     "text": [
      "INFO-__main__:1-Current date: 2023-10-17 08:27:06.659224\n"
     ]
    }
   ],
   "source": [
    "logger.info(f'Current date: {now}')"
   ]
  },
  {
   "cell_type": "markdown",
   "id": "2464c9bd",
   "metadata": {},
   "source": [
    "Finding out which columns in a dataframe are lists "
   ]
  },
  {
   "cell_type": "code",
   "execution_count": 86,
   "id": "fbb5abba",
   "metadata": {},
   "outputs": [],
   "source": [
    "# Assuming deduplicated_df is your DataFrame\n",
    "# list_columns = []\n",
    "\n",
    "# for column in final_df.columns:\n",
    "#     if final_df[column].apply(lambda x: isinstance(x, list)).any():\n",
    "#         list_columns.append(column)\n",
    "\n",
    "# print(\"Columns with lists:\", list_columns)"
   ]
  },
  {
   "cell_type": "markdown",
   "id": "a39e311f",
   "metadata": {},
   "source": [
    "Treating traveler_pricing_df"
   ]
  },
  {
   "cell_type": "code",
   "execution_count": 87,
   "id": "77ac0dc1",
   "metadata": {},
   "outputs": [],
   "source": [
    "# Explode the 'segment' column to create separate rows for each dictionary\n",
    "exploded_df = traveler_pricing_df.explode('fareDetailsBySegment')\n",
    "\n",
    "# Apply json_normalize to the 'segment' column to split dictionaries into separate columns\n",
    "normalized_df = json_normalize(exploded_df['fareDetailsBySegment']).add_suffix('_fare')\n",
    "\n",
    "# Join the exploded and normalized DataFrames\n",
    "final_df = exploded_df.drop('fareDetailsBySegment', axis=1).join(normalized_df)\n",
    "\n",
    "# Drop duplicates based on all columns to deduplicate the DataFrame\n",
    "deduplicated_df = final_df.drop_duplicates()\n",
    "\n",
    "# # If you want to reset the index of the deduplicated DataFrame\n",
    "deduplicated_df.reset_index(drop=True, inplace=True)\n",
    "# deduplicated_df=deduplicated_df.drop(columns=['id_segments'])\n",
    "\n",
    "# # Remove the added '_segment' suffix from column names\n",
    "deduplicated_df.columns = deduplicated_df.columns.str.replace('_fare$', '', regex=True)\n",
    "\n",
    "# #replace . in column anmes by underscore\n",
    "deduplicated_df.columns = deduplicated_df.columns.str.replace('.', '_', regex=False)\n",
    "\n",
    "# #Assigning to itineraries df\n",
    "traveler_pricing_df = deduplicated_df\n",
    "\n",
    "# #drop unwanted columns \n",
    "traveler_pricing_df=traveler_pricing_df.drop(columns=['fareBasis','class','brandedFare'])\n",
    "\n"
   ]
  },
  {
   "cell_type": "markdown",
   "id": "fee74de9",
   "metadata": {},
   "source": [
    "---------------------------------------------------"
   ]
  },
  {
   "cell_type": "markdown",
   "id": "ddb73b11",
   "metadata": {},
   "source": [
    "Renaming, reordering and changing datatypes"
   ]
  },
  {
   "cell_type": "code",
   "execution_count": 88,
   "id": "28554477",
   "metadata": {},
   "outputs": [],
   "source": [
    "# Rename the columns according to the SQL table schema\n",
    "traveler_pricing_df = traveler_pricing_df.rename(columns={\n",
    "    'travelerId': 'traveler_id',\n",
    "    'fareOption': 'fare_option',\n",
    "    'travelerType': 'traveler_type',\n",
    "    'price_currency': 'price_currency',\n",
    "    'price_total': 'price_total',\n",
    "    'price_base': 'price_base',\n",
    "    'id': 'id',\n",
    "    'source': 'source',\n",
    "    'segmentId': 'segment_id',\n",
    "    'cabin': 'cabin',\n",
    "    'includedCheckedBags_quantity': 'included_checkedbags_quantity',\n",
    "    'includedCheckedBags_weight': 'included_checkedbags_weight',\n",
    "    'includedCheckedBags_weightUnit': 'included_checkedbags_unit',\n",
    "    'incremental_day': 'incremental_day'\n",
    "})\n",
    "\n",
    "# Change the data types of relevant columns\n",
    "traveler_pricing_df['price_total'] = traveler_pricing_df['price_total'].astype(float)\n",
    "traveler_pricing_df['price_base'] = traveler_pricing_df['price_base'].astype(float)\n",
    "traveler_pricing_df['id'] = traveler_pricing_df['id'].astype(int)\n",
    "traveler_pricing_df['segment_id'] = traveler_pricing_df['segment_id'].astype(int)\n",
    "traveler_pricing_df['included_checkedbags_quantity'] = traveler_pricing_df['included_checkedbags_quantity'].astype(float)\n",
    "\n",
    "\n",
    "# Ensure data types are set correctly\n",
    "traveler_pricing_df['incremental_day'] =now\n",
    "traveler_pricing_df['incremental_day'] = pd.to_datetime(traveler_pricing_df['incremental_day'])\n"
   ]
  },
  {
   "cell_type": "code",
   "execution_count": 89,
   "id": "96ba399a",
   "metadata": {},
   "outputs": [
    {
     "name": "stderr",
     "output_type": "stream",
     "text": [
      "INFO-db_manager:27-CONNECTED\n",
      "INFO-db_manager:73-Dumped to DB\n",
      "INFO-db_manager:73-Dumped to DB\n"
     ]
    }
   ],
   "source": [
    "credentials=config.pg_credentials\n",
    "db = DBManager(credentials=credentials)\n",
    "db.create_table_from_df(df=itineraries_df,table_name='itineraries')\n",
    "db.create_table_from_df(df=traveler_pricing_df,table_name='traveler_pricing')"
   ]
  }
 ],
 "metadata": {
  "kernelspec": {
   "display_name": "Python 3 (ipykernel)",
   "language": "python",
   "name": "python3"
  },
  "language_info": {
   "codemirror_mode": {
    "name": "ipython",
    "version": 3
   },
   "file_extension": ".py",
   "mimetype": "text/x-python",
   "name": "python",
   "nbconvert_exporter": "python",
   "pygments_lexer": "ipython3",
   "version": "3.9.7"
  }
 },
 "nbformat": 4,
 "nbformat_minor": 5
}
