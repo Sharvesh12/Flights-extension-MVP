{
 "cells": [
  {
   "cell_type": "code",
   "execution_count": 2,
   "id": "4ef3bc25",
   "metadata": {},
   "outputs": [],
   "source": [
    "import requests\n",
    "import json\n",
    "import pandas as pd\n",
    "from pandas import json_normalize\n",
    "import config\n",
    "from db_manager import DBManager\n",
    "import os\n",
    "from rest_api import Api\n",
    "from datetime import date\n",
    "from dateutil.relativedelta import relativedelta\n",
    "from urllib.parse import quote_plus\n",
    "from sqlalchemy import create_engine\n",
    "import itertools"
   ]
  },
  {
   "cell_type": "markdown",
   "id": "e031de87",
   "metadata": {},
   "source": [
    "#### Show all columns without truncating"
   ]
  },
  {
   "cell_type": "code",
   "execution_count": 3,
   "id": "21ad10e0",
   "metadata": {},
   "outputs": [],
   "source": [
    "pd.set_option('display.max_columns', None)"
   ]
  },
  {
   "cell_type": "markdown",
   "id": "3a2111e1",
   "metadata": {},
   "source": [
    "Today's date"
   ]
  },
  {
   "cell_type": "code",
   "execution_count": 5,
   "id": "7a6455f9",
   "metadata": {},
   "outputs": [
    {
     "name": "stdout",
     "output_type": "stream",
     "text": [
      "2023-08-19\n"
     ]
    }
   ],
   "source": [
    "today = date.today()\n",
    "print(today)"
   ]
  },
  {
   "cell_type": "markdown",
   "id": "1821b741",
   "metadata": {},
   "source": [
    "Adding months to today's date. Near term travel dates 30 - 60 days ahead"
   ]
  },
  {
   "cell_type": "code",
   "execution_count": 6,
   "id": "15c6c73d",
   "metadata": {},
   "outputs": [
    {
     "name": "stdout",
     "output_type": "stream",
     "text": [
      "Departure_dates:2023-09-19 and 2023-10-19 \n",
      "Arrival dates:2023-10-19 and 2023-11-19\n"
     ]
    }
   ],
   "source": [
    "departure_date_1_month = today + relativedelta(months=1)\n",
    "departure_date_2_month = today + relativedelta(months=2)\n",
    "arrival_date_1_month = departure_date_2_month\n",
    "arrival_date_2_month = today + relativedelta(months=3)\n",
    "print(f'Departure_dates:{departure_date_1_month} and {departure_date_2_month} \\nArrival dates:{arrival_date_1_month} and {arrival_date_2_month}')"
   ]
  },
  {
   "cell_type": "markdown",
   "id": "3b8dab2b",
   "metadata": {},
   "source": [
    "Get the nearby festival departure dates by start_date from the public.indian_holidays table"
   ]
  },
  {
   "cell_type": "code",
   "execution_count": 11,
   "id": "0d09bcf9",
   "metadata": {},
   "outputs": [],
   "source": [
    "# credentials=config.pg_credentials\n",
    "# db = DBManager(credentials=credentials)\n",
    "# df_departure_arrival_dates = db.run_query(query_file_name='festival_dates')"
   ]
  },
  {
   "cell_type": "code",
   "execution_count": 12,
   "id": "b0b746da",
   "metadata": {},
   "outputs": [],
   "source": [
    "#df_departure_arrival_dates "
   ]
  },
  {
   "cell_type": "markdown",
   "id": "d0d872d1",
   "metadata": {},
   "source": [
    "Apply the combination of params to get data for all possible combinations of depart, arrival dates and depart arrival airports"
   ]
  },
  {
   "cell_type": "code",
   "execution_count": 7,
   "id": "6398d908",
   "metadata": {},
   "outputs": [],
   "source": [
    "departure_dates=[departure_date_1_month,departure_date_2_month]\n",
    "arrival_dates=[arrival_date_1_month,arrival_date_2_month]"
   ]
  },
  {
   "cell_type": "markdown",
   "id": "8144963f",
   "metadata": {},
   "source": [
    "Combination itertools usage. Im calculating the total combinations by multiplying the number of possibilities (unique values) for each variable<br />\n",
    "Departure airport: 4 possibilities<br />\n",
    "Arrival airport: 6 possibilities<br />\n",
    "Departure date: 1 possibilities<br />\n",
    "Arrival date: 1 possibilities<br />\n",
    "Total combinations = 4 x 6 x 1 x 1 = 24 combinations"
   ]
  },
  {
   "cell_type": "code",
   "execution_count": 61,
   "id": "0a2caa3b",
   "metadata": {},
   "outputs": [
    {
     "name": "stdout",
     "output_type": "stream",
     "text": [
      "[{'api_key': '64d8ff40c4386061ed958548', 'departure_airport_code': 'BER', 'arrival_airport_code': 'DEL', 'departureDate': datetime.date(2023, 9, 19), 'arrival_date': datetime.date(2023, 10, 19), 'number_of_adults': '1', 'number_of_childrens': '0', 'number_of_infants': '0', 'cabin_class': 'Economy', 'currency': 'EUR'}, {'api_key': '64d8ff40c4386061ed958548', 'departure_airport_code': 'BER', 'arrival_airport_code': 'DEL', 'departureDate': datetime.date(2023, 10, 19), 'arrival_date': datetime.date(2023, 11, 19), 'number_of_adults': '1', 'number_of_childrens': '0', 'number_of_infants': '0', 'cabin_class': 'Economy', 'currency': 'EUR'}, {'api_key': '64d8ff40c4386061ed958548', 'departure_airport_code': 'BER', 'arrival_airport_code': 'BOM', 'departureDate': datetime.date(2023, 9, 19), 'arrival_date': datetime.date(2023, 10, 19), 'number_of_adults': '1', 'number_of_childrens': '0', 'number_of_infants': '0', 'cabin_class': 'Economy', 'currency': 'EUR'}, {'api_key': '64d8ff40c4386061ed958548', 'departure_airport_code': 'BER', 'arrival_airport_code': 'BOM', 'departureDate': datetime.date(2023, 10, 19), 'arrival_date': datetime.date(2023, 11, 19), 'number_of_adults': '1', 'number_of_childrens': '0', 'number_of_infants': '0', 'cabin_class': 'Economy', 'currency': 'EUR'}, {'api_key': '64d8ff40c4386061ed958548', 'departure_airport_code': 'BER', 'arrival_airport_code': 'BLR', 'departureDate': datetime.date(2023, 9, 19), 'arrival_date': datetime.date(2023, 10, 19), 'number_of_adults': '1', 'number_of_childrens': '0', 'number_of_infants': '0', 'cabin_class': 'Economy', 'currency': 'EUR'}, {'api_key': '64d8ff40c4386061ed958548', 'departure_airport_code': 'BER', 'arrival_airport_code': 'BLR', 'departureDate': datetime.date(2023, 10, 19), 'arrival_date': datetime.date(2023, 11, 19), 'number_of_adults': '1', 'number_of_childrens': '0', 'number_of_infants': '0', 'cabin_class': 'Economy', 'currency': 'EUR'}, {'api_key': '64d8ff40c4386061ed958548', 'departure_airport_code': 'BER', 'arrival_airport_code': 'HYD', 'departureDate': datetime.date(2023, 9, 19), 'arrival_date': datetime.date(2023, 10, 19), 'number_of_adults': '1', 'number_of_childrens': '0', 'number_of_infants': '0', 'cabin_class': 'Economy', 'currency': 'EUR'}, {'api_key': '64d8ff40c4386061ed958548', 'departure_airport_code': 'BER', 'arrival_airport_code': 'HYD', 'departureDate': datetime.date(2023, 10, 19), 'arrival_date': datetime.date(2023, 11, 19), 'number_of_adults': '1', 'number_of_childrens': '0', 'number_of_infants': '0', 'cabin_class': 'Economy', 'currency': 'EUR'}, {'api_key': '64d8ff40c4386061ed958548', 'departure_airport_code': 'BER', 'arrival_airport_code': 'MAA', 'departureDate': datetime.date(2023, 9, 19), 'arrival_date': datetime.date(2023, 10, 19), 'number_of_adults': '1', 'number_of_childrens': '0', 'number_of_infants': '0', 'cabin_class': 'Economy', 'currency': 'EUR'}, {'api_key': '64d8ff40c4386061ed958548', 'departure_airport_code': 'BER', 'arrival_airport_code': 'MAA', 'departureDate': datetime.date(2023, 10, 19), 'arrival_date': datetime.date(2023, 11, 19), 'number_of_adults': '1', 'number_of_childrens': '0', 'number_of_infants': '0', 'cabin_class': 'Economy', 'currency': 'EUR'}, {'api_key': '64d8ff40c4386061ed958548', 'departure_airport_code': 'BER', 'arrival_airport_code': 'CCU', 'departureDate': datetime.date(2023, 9, 19), 'arrival_date': datetime.date(2023, 10, 19), 'number_of_adults': '1', 'number_of_childrens': '0', 'number_of_infants': '0', 'cabin_class': 'Economy', 'currency': 'EUR'}, {'api_key': '64d8ff40c4386061ed958548', 'departure_airport_code': 'BER', 'arrival_airport_code': 'CCU', 'departureDate': datetime.date(2023, 10, 19), 'arrival_date': datetime.date(2023, 11, 19), 'number_of_adults': '1', 'number_of_childrens': '0', 'number_of_infants': '0', 'cabin_class': 'Economy', 'currency': 'EUR'}, {'api_key': '64d8ff40c4386061ed958548', 'departure_airport_code': 'FRA', 'arrival_airport_code': 'DEL', 'departureDate': datetime.date(2023, 9, 19), 'arrival_date': datetime.date(2023, 10, 19), 'number_of_adults': '1', 'number_of_childrens': '0', 'number_of_infants': '0', 'cabin_class': 'Economy', 'currency': 'EUR'}, {'api_key': '64d8ff40c4386061ed958548', 'departure_airport_code': 'FRA', 'arrival_airport_code': 'DEL', 'departureDate': datetime.date(2023, 10, 19), 'arrival_date': datetime.date(2023, 11, 19), 'number_of_adults': '1', 'number_of_childrens': '0', 'number_of_infants': '0', 'cabin_class': 'Economy', 'currency': 'EUR'}, {'api_key': '64d8ff40c4386061ed958548', 'departure_airport_code': 'FRA', 'arrival_airport_code': 'BOM', 'departureDate': datetime.date(2023, 9, 19), 'arrival_date': datetime.date(2023, 10, 19), 'number_of_adults': '1', 'number_of_childrens': '0', 'number_of_infants': '0', 'cabin_class': 'Economy', 'currency': 'EUR'}, {'api_key': '64d8ff40c4386061ed958548', 'departure_airport_code': 'FRA', 'arrival_airport_code': 'BOM', 'departureDate': datetime.date(2023, 10, 19), 'arrival_date': datetime.date(2023, 11, 19), 'number_of_adults': '1', 'number_of_childrens': '0', 'number_of_infants': '0', 'cabin_class': 'Economy', 'currency': 'EUR'}, {'api_key': '64d8ff40c4386061ed958548', 'departure_airport_code': 'FRA', 'arrival_airport_code': 'BLR', 'departureDate': datetime.date(2023, 9, 19), 'arrival_date': datetime.date(2023, 10, 19), 'number_of_adults': '1', 'number_of_childrens': '0', 'number_of_infants': '0', 'cabin_class': 'Economy', 'currency': 'EUR'}, {'api_key': '64d8ff40c4386061ed958548', 'departure_airport_code': 'FRA', 'arrival_airport_code': 'BLR', 'departureDate': datetime.date(2023, 10, 19), 'arrival_date': datetime.date(2023, 11, 19), 'number_of_adults': '1', 'number_of_childrens': '0', 'number_of_infants': '0', 'cabin_class': 'Economy', 'currency': 'EUR'}, {'api_key': '64d8ff40c4386061ed958548', 'departure_airport_code': 'FRA', 'arrival_airport_code': 'HYD', 'departureDate': datetime.date(2023, 9, 19), 'arrival_date': datetime.date(2023, 10, 19), 'number_of_adults': '1', 'number_of_childrens': '0', 'number_of_infants': '0', 'cabin_class': 'Economy', 'currency': 'EUR'}, {'api_key': '64d8ff40c4386061ed958548', 'departure_airport_code': 'FRA', 'arrival_airport_code': 'HYD', 'departureDate': datetime.date(2023, 10, 19), 'arrival_date': datetime.date(2023, 11, 19), 'number_of_adults': '1', 'number_of_childrens': '0', 'number_of_infants': '0', 'cabin_class': 'Economy', 'currency': 'EUR'}, {'api_key': '64d8ff40c4386061ed958548', 'departure_airport_code': 'FRA', 'arrival_airport_code': 'MAA', 'departureDate': datetime.date(2023, 9, 19), 'arrival_date': datetime.date(2023, 10, 19), 'number_of_adults': '1', 'number_of_childrens': '0', 'number_of_infants': '0', 'cabin_class': 'Economy', 'currency': 'EUR'}, {'api_key': '64d8ff40c4386061ed958548', 'departure_airport_code': 'FRA', 'arrival_airport_code': 'MAA', 'departureDate': datetime.date(2023, 10, 19), 'arrival_date': datetime.date(2023, 11, 19), 'number_of_adults': '1', 'number_of_childrens': '0', 'number_of_infants': '0', 'cabin_class': 'Economy', 'currency': 'EUR'}, {'api_key': '64d8ff40c4386061ed958548', 'departure_airport_code': 'FRA', 'arrival_airport_code': 'CCU', 'departureDate': datetime.date(2023, 9, 19), 'arrival_date': datetime.date(2023, 10, 19), 'number_of_adults': '1', 'number_of_childrens': '0', 'number_of_infants': '0', 'cabin_class': 'Economy', 'currency': 'EUR'}, {'api_key': '64d8ff40c4386061ed958548', 'departure_airport_code': 'FRA', 'arrival_airport_code': 'CCU', 'departureDate': datetime.date(2023, 10, 19), 'arrival_date': datetime.date(2023, 11, 19), 'number_of_adults': '1', 'number_of_childrens': '0', 'number_of_infants': '0', 'cabin_class': 'Economy', 'currency': 'EUR'}, {'api_key': '64d8ff40c4386061ed958548', 'departure_airport_code': 'MUC', 'arrival_airport_code': 'DEL', 'departureDate': datetime.date(2023, 9, 19), 'arrival_date': datetime.date(2023, 10, 19), 'number_of_adults': '1', 'number_of_childrens': '0', 'number_of_infants': '0', 'cabin_class': 'Economy', 'currency': 'EUR'}, {'api_key': '64d8ff40c4386061ed958548', 'departure_airport_code': 'MUC', 'arrival_airport_code': 'DEL', 'departureDate': datetime.date(2023, 10, 19), 'arrival_date': datetime.date(2023, 11, 19), 'number_of_adults': '1', 'number_of_childrens': '0', 'number_of_infants': '0', 'cabin_class': 'Economy', 'currency': 'EUR'}, {'api_key': '64d8ff40c4386061ed958548', 'departure_airport_code': 'MUC', 'arrival_airport_code': 'BOM', 'departureDate': datetime.date(2023, 9, 19), 'arrival_date': datetime.date(2023, 10, 19), 'number_of_adults': '1', 'number_of_childrens': '0', 'number_of_infants': '0', 'cabin_class': 'Economy', 'currency': 'EUR'}, {'api_key': '64d8ff40c4386061ed958548', 'departure_airport_code': 'MUC', 'arrival_airport_code': 'BOM', 'departureDate': datetime.date(2023, 10, 19), 'arrival_date': datetime.date(2023, 11, 19), 'number_of_adults': '1', 'number_of_childrens': '0', 'number_of_infants': '0', 'cabin_class': 'Economy', 'currency': 'EUR'}, {'api_key': '64d8ff40c4386061ed958548', 'departure_airport_code': 'MUC', 'arrival_airport_code': 'BLR', 'departureDate': datetime.date(2023, 9, 19), 'arrival_date': datetime.date(2023, 10, 19), 'number_of_adults': '1', 'number_of_childrens': '0', 'number_of_infants': '0', 'cabin_class': 'Economy', 'currency': 'EUR'}, {'api_key': '64d8ff40c4386061ed958548', 'departure_airport_code': 'MUC', 'arrival_airport_code': 'BLR', 'departureDate': datetime.date(2023, 10, 19), 'arrival_date': datetime.date(2023, 11, 19), 'number_of_adults': '1', 'number_of_childrens': '0', 'number_of_infants': '0', 'cabin_class': 'Economy', 'currency': 'EUR'}, {'api_key': '64d8ff40c4386061ed958548', 'departure_airport_code': 'MUC', 'arrival_airport_code': 'HYD', 'departureDate': datetime.date(2023, 9, 19), 'arrival_date': datetime.date(2023, 10, 19), 'number_of_adults': '1', 'number_of_childrens': '0', 'number_of_infants': '0', 'cabin_class': 'Economy', 'currency': 'EUR'}, {'api_key': '64d8ff40c4386061ed958548', 'departure_airport_code': 'MUC', 'arrival_airport_code': 'HYD', 'departureDate': datetime.date(2023, 10, 19), 'arrival_date': datetime.date(2023, 11, 19), 'number_of_adults': '1', 'number_of_childrens': '0', 'number_of_infants': '0', 'cabin_class': 'Economy', 'currency': 'EUR'}, {'api_key': '64d8ff40c4386061ed958548', 'departure_airport_code': 'MUC', 'arrival_airport_code': 'MAA', 'departureDate': datetime.date(2023, 9, 19), 'arrival_date': datetime.date(2023, 10, 19), 'number_of_adults': '1', 'number_of_childrens': '0', 'number_of_infants': '0', 'cabin_class': 'Economy', 'currency': 'EUR'}, {'api_key': '64d8ff40c4386061ed958548', 'departure_airport_code': 'MUC', 'arrival_airport_code': 'MAA', 'departureDate': datetime.date(2023, 10, 19), 'arrival_date': datetime.date(2023, 11, 19), 'number_of_adults': '1', 'number_of_childrens': '0', 'number_of_infants': '0', 'cabin_class': 'Economy', 'currency': 'EUR'}, {'api_key': '64d8ff40c4386061ed958548', 'departure_airport_code': 'MUC', 'arrival_airport_code': 'CCU', 'departureDate': datetime.date(2023, 9, 19), 'arrival_date': datetime.date(2023, 10, 19), 'number_of_adults': '1', 'number_of_childrens': '0', 'number_of_infants': '0', 'cabin_class': 'Economy', 'currency': 'EUR'}, {'api_key': '64d8ff40c4386061ed958548', 'departure_airport_code': 'MUC', 'arrival_airport_code': 'CCU', 'departureDate': datetime.date(2023, 10, 19), 'arrival_date': datetime.date(2023, 11, 19), 'number_of_adults': '1', 'number_of_childrens': '0', 'number_of_infants': '0', 'cabin_class': 'Economy', 'currency': 'EUR'}, {'api_key': '64d8ff40c4386061ed958548', 'departure_airport_code': 'DUS', 'arrival_airport_code': 'DEL', 'departureDate': datetime.date(2023, 9, 19), 'arrival_date': datetime.date(2023, 10, 19), 'number_of_adults': '1', 'number_of_childrens': '0', 'number_of_infants': '0', 'cabin_class': 'Economy', 'currency': 'EUR'}, {'api_key': '64d8ff40c4386061ed958548', 'departure_airport_code': 'DUS', 'arrival_airport_code': 'DEL', 'departureDate': datetime.date(2023, 10, 19), 'arrival_date': datetime.date(2023, 11, 19), 'number_of_adults': '1', 'number_of_childrens': '0', 'number_of_infants': '0', 'cabin_class': 'Economy', 'currency': 'EUR'}, {'api_key': '64d8ff40c4386061ed958548', 'departure_airport_code': 'DUS', 'arrival_airport_code': 'BOM', 'departureDate': datetime.date(2023, 9, 19), 'arrival_date': datetime.date(2023, 10, 19), 'number_of_adults': '1', 'number_of_childrens': '0', 'number_of_infants': '0', 'cabin_class': 'Economy', 'currency': 'EUR'}, {'api_key': '64d8ff40c4386061ed958548', 'departure_airport_code': 'DUS', 'arrival_airport_code': 'BOM', 'departureDate': datetime.date(2023, 10, 19), 'arrival_date': datetime.date(2023, 11, 19), 'number_of_adults': '1', 'number_of_childrens': '0', 'number_of_infants': '0', 'cabin_class': 'Economy', 'currency': 'EUR'}, {'api_key': '64d8ff40c4386061ed958548', 'departure_airport_code': 'DUS', 'arrival_airport_code': 'BLR', 'departureDate': datetime.date(2023, 9, 19), 'arrival_date': datetime.date(2023, 10, 19), 'number_of_adults': '1', 'number_of_childrens': '0', 'number_of_infants': '0', 'cabin_class': 'Economy', 'currency': 'EUR'}, {'api_key': '64d8ff40c4386061ed958548', 'departure_airport_code': 'DUS', 'arrival_airport_code': 'BLR', 'departureDate': datetime.date(2023, 10, 19), 'arrival_date': datetime.date(2023, 11, 19), 'number_of_adults': '1', 'number_of_childrens': '0', 'number_of_infants': '0', 'cabin_class': 'Economy', 'currency': 'EUR'}, {'api_key': '64d8ff40c4386061ed958548', 'departure_airport_code': 'DUS', 'arrival_airport_code': 'HYD', 'departureDate': datetime.date(2023, 9, 19), 'arrival_date': datetime.date(2023, 10, 19), 'number_of_adults': '1', 'number_of_childrens': '0', 'number_of_infants': '0', 'cabin_class': 'Economy', 'currency': 'EUR'}, {'api_key': '64d8ff40c4386061ed958548', 'departure_airport_code': 'DUS', 'arrival_airport_code': 'HYD', 'departureDate': datetime.date(2023, 10, 19), 'arrival_date': datetime.date(2023, 11, 19), 'number_of_adults': '1', 'number_of_childrens': '0', 'number_of_infants': '0', 'cabin_class': 'Economy', 'currency': 'EUR'}, {'api_key': '64d8ff40c4386061ed958548', 'departure_airport_code': 'DUS', 'arrival_airport_code': 'MAA', 'departureDate': datetime.date(2023, 9, 19), 'arrival_date': datetime.date(2023, 10, 19), 'number_of_adults': '1', 'number_of_childrens': '0', 'number_of_infants': '0', 'cabin_class': 'Economy', 'currency': 'EUR'}, {'api_key': '64d8ff40c4386061ed958548', 'departure_airport_code': 'DUS', 'arrival_airport_code': 'MAA', 'departureDate': datetime.date(2023, 10, 19), 'arrival_date': datetime.date(2023, 11, 19), 'number_of_adults': '1', 'number_of_childrens': '0', 'number_of_infants': '0', 'cabin_class': 'Economy', 'currency': 'EUR'}, {'api_key': '64d8ff40c4386061ed958548', 'departure_airport_code': 'DUS', 'arrival_airport_code': 'CCU', 'departureDate': datetime.date(2023, 9, 19), 'arrival_date': datetime.date(2023, 10, 19), 'number_of_adults': '1', 'number_of_childrens': '0', 'number_of_infants': '0', 'cabin_class': 'Economy', 'currency': 'EUR'}, {'api_key': '64d8ff40c4386061ed958548', 'departure_airport_code': 'DUS', 'arrival_airport_code': 'CCU', 'departureDate': datetime.date(2023, 10, 19), 'arrival_date': datetime.date(2023, 11, 19), 'number_of_adults': '1', 'number_of_childrens': '0', 'number_of_infants': '0', 'cabin_class': 'Economy', 'currency': 'EUR'}]\n"
     ]
    }
   ],
   "source": [
    "params = {\n",
    "'api_key':config.params['api_key'], #locked\n",
    "'departure_airport_code':config.params['departure_airport_code'],\n",
    "'arrival_airport_code': config.params['arrival_airport_code'],\n",
    "'departureDate':departure_dates, \n",
    "'arrival_date':arrival_dates, \n",
    "'number_of_adults':config.params['number_of_adults'], #locked\n",
    "'number_of_childrens' :config.params['number_of_childrens'],#locked\n",
    "'number_of_infants':config.params['number_of_infants'], #locked\n",
    "'cabin_class' :config.params['cabin_class'], #locked\n",
    "'currency':config.params['currency'] #locked\n",
    "}\n",
    "\n",
    "locked_keys = ['api_key','departureDate','arrival_date','number_of_adults','number_of_childrens','number_of_infants','cabin_class','currency']\n",
    "var_keys = [k for k in params if k not in locked_keys]\n",
    "\n",
    "combinations = []\n",
    "\n",
    "\n",
    "for values in itertools.product(*map(params.get, var_keys)):\n",
    "  comb = dict(zip(var_keys, values))\n",
    "  comb.update({k: params[k] for k in locked_keys})\n",
    "  combinations.append(comb)\n",
    "\n",
    "dicts=[]\n",
    "for c in combinations:\n",
    "  # create dict from each combo\n",
    "  for i, date in enumerate(c['departureDate']):\n",
    "    d = {'api_key':c['api_key'],\n",
    "          'departure_airport_code':c['departure_airport_code'],\n",
    "          'arrival_airport_code': c['arrival_airport_code'],       \n",
    "          'departureDate': c['departureDate'][i],\n",
    "          'arrival_date' : c['arrival_date'][i],\n",
    "          'number_of_adults' : c['number_of_adults'],\n",
    "          'number_of_childrens' : c['number_of_childrens'],\n",
    "          'number_of_infants' : c['number_of_infants'],\n",
    "          'cabin_class' : c['cabin_class'],\n",
    "          'currency':   c['currency']\n",
    "        }\n",
    "    dicts.append(d)\n",
    "print(dicts)"
   ]
  },
  {
   "cell_type": "code",
   "execution_count": null,
   "id": "5689991b",
   "metadata": {},
   "outputs": [],
   "source": [
    "for o in original:\n",
    "  ordered = {k: v[0] if k in ('departureDate') else v for k, v in o.items()}\n",
    "  print(ordered)"
   ]
  },
  {
   "cell_type": "markdown",
   "id": "491f20eb",
   "metadata": {},
   "source": []
  },
  {
   "cell_type": "code",
   "execution_count": 25,
   "metadata": {},
   "outputs": [
    {
     "ename": "TypeError",
     "evalue": "'dict' object is not callable",
     "output_type": "error",
     "traceback": [
      "\u001b[1;31m---------------------------------------------------------------------------\u001b[0m",
      "\u001b[1;31mTypeError\u001b[0m                                 Traceback (most recent call last)",
      "\u001b[1;32m~\\AppData\\Local\\Temp/ipykernel_17816/716073858.py\u001b[0m in \u001b[0;36m<module>\u001b[1;34m\u001b[0m\n\u001b[1;32m----> 1\u001b[1;33m \u001b[0mcombination\u001b[0m \u001b[1;33m=\u001b[0m \u001b[0mcombinations\u001b[0m\u001b[1;33m(\u001b[0m\u001b[1;33m)\u001b[0m\u001b[1;33m\u001b[0m\u001b[1;33m\u001b[0m\u001b[0m\n\u001b[0m\u001b[0;32m      2\u001b[0m \u001b[0mprint\u001b[0m\u001b[1;33m(\u001b[0m\u001b[0mcombination\u001b[0m\u001b[1;33m)\u001b[0m\u001b[1;33m\u001b[0m\u001b[1;33m\u001b[0m\u001b[0m\n",
      "\u001b[1;31mTypeError\u001b[0m: 'dict' object is not callable"
     ]
    }
   ],
   "source": [
    "combination = combinations()\n",
    "print(combination)"
   ]
  },
  {
   "cell_type": "markdown",
   "id": "71e128a2",
   "metadata": {},
   "source": [
    "#### Travel payouts API to get flight search results for each combination\\"
   ]
  },
  {
   "cell_type": "code",
   "execution_count": 28,
   "id": "6b262a0b",
   "metadata": {},
   "outputs": [
    {
     "ename": "TypeError",
     "evalue": "rest_api.Api.make_flight_api_request() argument after ** must be a mapping, not str",
     "output_type": "error",
     "traceback": [
      "\u001b[1;31m---------------------------------------------------------------------------\u001b[0m",
      "\u001b[1;31mTypeError\u001b[0m                                 Traceback (most recent call last)",
      "\u001b[1;32m~\\AppData\\Local\\Temp/ipykernel_17816/1019286763.py\u001b[0m in \u001b[0;36m<module>\u001b[1;34m\u001b[0m\n\u001b[0;32m      2\u001b[0m \u001b[1;33m\u001b[0m\u001b[0m\n\u001b[0;32m      3\u001b[0m         \u001b[0mapi\u001b[0m \u001b[1;33m=\u001b[0m \u001b[0mApi\u001b[0m\u001b[1;33m(\u001b[0m\u001b[1;33m)\u001b[0m\u001b[1;33m\u001b[0m\u001b[1;33m\u001b[0m\u001b[0m\n\u001b[1;32m----> 4\u001b[1;33m         \u001b[0mresponse\u001b[0m \u001b[1;33m=\u001b[0m \u001b[0mapi\u001b[0m\u001b[1;33m.\u001b[0m\u001b[0mmake_flight_api_request\u001b[0m\u001b[1;33m(\u001b[0m\u001b[1;33m**\u001b[0m\u001b[0morder\u001b[0m\u001b[1;33m)\u001b[0m\u001b[1;33m\u001b[0m\u001b[1;33m\u001b[0m\u001b[0m\n\u001b[0m\u001b[0;32m      5\u001b[0m         \u001b[0mprint\u001b[0m\u001b[1;33m(\u001b[0m\u001b[0mresponse\u001b[0m\u001b[1;33m)\u001b[0m\u001b[1;33m\u001b[0m\u001b[1;33m\u001b[0m\u001b[0m\n\u001b[0;32m      6\u001b[0m \u001b[0mresponse\u001b[0m\u001b[1;33m\u001b[0m\u001b[1;33m\u001b[0m\u001b[0m\n",
      "\u001b[1;31mTypeError\u001b[0m: rest_api.Api.make_flight_api_request() argument after ** must be a mapping, not str"
     ]
    }
   ],
   "source": [
    "for order in ordered:\n",
    "    \n",
    "        api = Api()\n",
    "        response = api.make_flight_api_request(**order)\n",
    "        print(response)\n",
    "response"
   ]
  },
  {
   "cell_type": "markdown",
   "id": "8af5e387",
   "metadata": {},
   "source": [
    "#### df_legs is the main table that contains leg id, dep time, arr time, dep airport, arr airport, stopovers, duration"
   ]
  },
  {
   "cell_type": "code",
   "execution_count": null,
   "id": "400883d0",
   "metadata": {},
   "outputs": [
    {
     "ename": "KeyError",
     "evalue": "'legs'",
     "output_type": "error",
     "traceback": [
      "\u001b[1;31m---------------------------------------------------------------------------\u001b[0m",
      "\u001b[1;31mKeyError\u001b[0m                                  Traceback (most recent call last)",
      "\u001b[1;32m~\\AppData\\Local\\Temp/ipykernel_17556/1630739907.py\u001b[0m in \u001b[0;36m<module>\u001b[1;34m\u001b[0m\n\u001b[1;32m----> 1\u001b[1;33m \u001b[0mdf_legs\u001b[0m \u001b[1;33m=\u001b[0m \u001b[0mjson_normalize\u001b[0m\u001b[1;33m(\u001b[0m\u001b[0mdict\u001b[0m\u001b[1;33m[\u001b[0m\u001b[1;34m'legs'\u001b[0m\u001b[1;33m]\u001b[0m\u001b[1;33m)\u001b[0m\u001b[1;33m\u001b[0m\u001b[1;33m\u001b[0m\u001b[0m\n\u001b[0m",
      "\u001b[1;31mKeyError\u001b[0m: 'legs'"
     ]
    }
   ],
   "source": [
    "df_legs = json_normalize(dict['legs']) "
   ]
  },
  {
   "cell_type": "markdown",
   "id": "ddb73b11",
   "metadata": {},
   "source": [
    "Dropping unwanted columns"
   ]
  },
  {
   "cell_type": "code",
   "execution_count": null,
   "id": "5bf77880",
   "metadata": {},
   "outputs": [],
   "source": [
    "df_legs=df_legs.drop(columns=['departureTimeMinutes','arrivalTimeMinutes','segments','operatingAirlineCodes','stopoverCode','shortStopover','earlyDeparture','lateArrival','newAircraft','oldAircraft','highlyRatedCarrier','score'])"
   ]
  },
  {
   "cell_type": "code",
   "execution_count": null,
   "id": "28554477",
   "metadata": {},
   "outputs": [
    {
     "data": {
      "text/html": [
       "<div>\n",
       "<style scoped>\n",
       "    .dataframe tbody tr th:only-of-type {\n",
       "        vertical-align: middle;\n",
       "    }\n",
       "\n",
       "    .dataframe tbody tr th {\n",
       "        vertical-align: top;\n",
       "    }\n",
       "\n",
       "    .dataframe thead th {\n",
       "        text-align: right;\n",
       "    }\n",
       "</style>\n",
       "<table border=\"1\" class=\"dataframe\">\n",
       "  <thead>\n",
       "    <tr style=\"text-align: right;\">\n",
       "      <th></th>\n",
       "      <th>id</th>\n",
       "      <th>departureTime</th>\n",
       "      <th>arrivalTime</th>\n",
       "      <th>duration</th>\n",
       "      <th>departureAirportCode</th>\n",
       "      <th>arrivalAirportCode</th>\n",
       "      <th>airlineCodes</th>\n",
       "      <th>stopoverAirportCodes</th>\n",
       "      <th>allianceCodes</th>\n",
       "      <th>stopoversCount</th>\n",
       "      <th>departureDateTime</th>\n",
       "      <th>arrivalDateTime</th>\n",
       "      <th>stopoverDurationMinutes</th>\n",
       "      <th>durationMinutes</th>\n",
       "      <th>overnight</th>\n",
       "      <th>stopoverDuration</th>\n",
       "      <th>durationDays</th>\n",
       "      <th>longStopover</th>\n",
       "    </tr>\n",
       "  </thead>\n",
       "  <tbody>\n",
       "    <tr>\n",
       "      <th>0</th>\n",
       "      <td>MAA-BER:KL2092~15:KL1228~15:KL1825~15:1</td>\n",
       "      <td>01:20</td>\n",
       "      <td>13:45</td>\n",
       "      <td>15h 55m</td>\n",
       "      <td>MAA</td>\n",
       "      <td>BER</td>\n",
       "      <td>[KL]</td>\n",
       "      <td>[CDG, AMS]</td>\n",
       "      <td>[sky_team]</td>\n",
       "      <td>2</td>\n",
       "      <td>2023-10-15T01:20:00.000+05:30</td>\n",
       "      <td>2023-10-15T13:45:00.000+02:00</td>\n",
       "      <td>160</td>\n",
       "      <td>955</td>\n",
       "      <td>False</td>\n",
       "      <td>02h 40m</td>\n",
       "      <td>0</td>\n",
       "      <td>False</td>\n",
       "    </tr>\n",
       "    <tr>\n",
       "      <th>1</th>\n",
       "      <td>BER-MAA:AF1535~15:AF108~16:0</td>\n",
       "      <td>20:30</td>\n",
       "      <td>23:30</td>\n",
       "      <td>23h 30m</td>\n",
       "      <td>BER</td>\n",
       "      <td>MAA</td>\n",
       "      <td>[AF]</td>\n",
       "      <td>[CDG]</td>\n",
       "      <td>[sky_team]</td>\n",
       "      <td>1</td>\n",
       "      <td>2023-09-15T20:30:00.000+02:00</td>\n",
       "      <td>2023-09-16T23:30:00.000+05:30</td>\n",
       "      <td>695</td>\n",
       "      <td>1410</td>\n",
       "      <td>True</td>\n",
       "      <td>11h 35m</td>\n",
       "      <td>1</td>\n",
       "      <td>True</td>\n",
       "    </tr>\n",
       "    <tr>\n",
       "      <th>2</th>\n",
       "      <td>MAA-BER:KL3689~15:KL878~16:KL1823~16:1</td>\n",
       "      <td>22:10</td>\n",
       "      <td>11:30</td>\n",
       "      <td>16h 50m</td>\n",
       "      <td>MAA</td>\n",
       "      <td>BER</td>\n",
       "      <td>[KL]</td>\n",
       "      <td>[BOM, AMS]</td>\n",
       "      <td>[sky_team]</td>\n",
       "      <td>2</td>\n",
       "      <td>2023-10-15T22:10:00.000+05:30</td>\n",
       "      <td>2023-10-16T11:30:00.000+02:00</td>\n",
       "      <td>260</td>\n",
       "      <td>1010</td>\n",
       "      <td>True</td>\n",
       "      <td>04h 20m</td>\n",
       "      <td>1</td>\n",
       "      <td>True</td>\n",
       "    </tr>\n",
       "    <tr>\n",
       "      <th>3</th>\n",
       "      <td>BER-MAA:AF1135~15:AF212~15:AF3326~16:0</td>\n",
       "      <td>06:00</td>\n",
       "      <td>07:30</td>\n",
       "      <td>22h</td>\n",
       "      <td>BER</td>\n",
       "      <td>MAA</td>\n",
       "      <td>[AF]</td>\n",
       "      <td>[CDG, BOM]</td>\n",
       "      <td>[sky_team]</td>\n",
       "      <td>2</td>\n",
       "      <td>2023-09-15T06:00:00.000+02:00</td>\n",
       "      <td>2023-09-16T07:30:00.000+05:30</td>\n",
       "      <td>565</td>\n",
       "      <td>1320</td>\n",
       "      <td>True</td>\n",
       "      <td>09h 25m</td>\n",
       "      <td>1</td>\n",
       "      <td>True</td>\n",
       "    </tr>\n",
       "    <tr>\n",
       "      <th>4</th>\n",
       "      <td>BER-MAA:AF1235~15:AF108~16:0</td>\n",
       "      <td>15:20</td>\n",
       "      <td>23:30</td>\n",
       "      <td>28h 40m</td>\n",
       "      <td>BER</td>\n",
       "      <td>MAA</td>\n",
       "      <td>[AF]</td>\n",
       "      <td>[CDG]</td>\n",
       "      <td>[sky_team]</td>\n",
       "      <td>1</td>\n",
       "      <td>2023-09-15T15:20:00.000+02:00</td>\n",
       "      <td>2023-09-16T23:30:00.000+05:30</td>\n",
       "      <td>1005</td>\n",
       "      <td>1720</td>\n",
       "      <td>True</td>\n",
       "      <td>16h 45m</td>\n",
       "      <td>1</td>\n",
       "      <td>True</td>\n",
       "    </tr>\n",
       "  </tbody>\n",
       "</table>\n",
       "</div>"
      ],
      "text/plain": [
       "                                        id departureTime arrivalTime duration  \\\n",
       "0  MAA-BER:KL2092~15:KL1228~15:KL1825~15:1         01:20       13:45  15h 55m   \n",
       "1             BER-MAA:AF1535~15:AF108~16:0         20:30       23:30  23h 30m   \n",
       "2   MAA-BER:KL3689~15:KL878~16:KL1823~16:1         22:10       11:30  16h 50m   \n",
       "3   BER-MAA:AF1135~15:AF212~15:AF3326~16:0         06:00       07:30      22h   \n",
       "4             BER-MAA:AF1235~15:AF108~16:0         15:20       23:30  28h 40m   \n",
       "\n",
       "  departureAirportCode arrivalAirportCode airlineCodes stopoverAirportCodes  \\\n",
       "0                  MAA                BER         [KL]           [CDG, AMS]   \n",
       "1                  BER                MAA         [AF]                [CDG]   \n",
       "2                  MAA                BER         [KL]           [BOM, AMS]   \n",
       "3                  BER                MAA         [AF]           [CDG, BOM]   \n",
       "4                  BER                MAA         [AF]                [CDG]   \n",
       "\n",
       "  allianceCodes  stopoversCount              departureDateTime  \\\n",
       "0    [sky_team]               2  2023-10-15T01:20:00.000+05:30   \n",
       "1    [sky_team]               1  2023-09-15T20:30:00.000+02:00   \n",
       "2    [sky_team]               2  2023-10-15T22:10:00.000+05:30   \n",
       "3    [sky_team]               2  2023-09-15T06:00:00.000+02:00   \n",
       "4    [sky_team]               1  2023-09-15T15:20:00.000+02:00   \n",
       "\n",
       "                 arrivalDateTime  stopoverDurationMinutes  durationMinutes  \\\n",
       "0  2023-10-15T13:45:00.000+02:00                      160              955   \n",
       "1  2023-09-16T23:30:00.000+05:30                      695             1410   \n",
       "2  2023-10-16T11:30:00.000+02:00                      260             1010   \n",
       "3  2023-09-16T07:30:00.000+05:30                      565             1320   \n",
       "4  2023-09-16T23:30:00.000+05:30                     1005             1720   \n",
       "\n",
       "   overnight stopoverDuration  durationDays  longStopover  \n",
       "0      False          02h 40m             0         False  \n",
       "1       True          11h 35m             1          True  \n",
       "2       True          04h 20m             1          True  \n",
       "3       True          09h 25m             1          True  \n",
       "4       True          16h 45m             1          True  "
      ]
     },
     "execution_count": 16,
     "metadata": {},
     "output_type": "execute_result"
    }
   ],
   "source": [
    "df_legs.head()"
   ]
  },
  {
   "cell_type": "markdown",
   "id": "ce6a557f",
   "metadata": {},
   "source": [
    "#### df_trips is the df that acts as an intermediate df between legs and fares array. It contains the trip id and the legs id"
   ]
  },
  {
   "cell_type": "code",
   "execution_count": null,
   "id": "1289e836",
   "metadata": {},
   "outputs": [],
   "source": [
    "df_trips = json_normalize(dict['trips'])"
   ]
  },
  {
   "cell_type": "markdown",
   "id": "362bbd42",
   "metadata": {},
   "source": [
    "Exploding the legIds column to spread the list of ledIds to several rows"
   ]
  },
  {
   "cell_type": "code",
   "execution_count": null,
   "id": "0b52a096",
   "metadata": {},
   "outputs": [],
   "source": [
    "df_trips=df_trips.explode('legIds')"
   ]
  },
  {
   "cell_type": "code",
   "execution_count": null,
   "id": "53f494b2",
   "metadata": {},
   "outputs": [
    {
     "data": {
      "text/html": [
       "<div>\n",
       "<style scoped>\n",
       "    .dataframe tbody tr th:only-of-type {\n",
       "        vertical-align: middle;\n",
       "    }\n",
       "\n",
       "    .dataframe tbody tr th {\n",
       "        vertical-align: top;\n",
       "    }\n",
       "\n",
       "    .dataframe thead th {\n",
       "        text-align: right;\n",
       "    }\n",
       "</style>\n",
       "<table border=\"1\" class=\"dataframe\">\n",
       "  <thead>\n",
       "    <tr style=\"text-align: right;\">\n",
       "      <th></th>\n",
       "      <th>id</th>\n",
       "      <th>code</th>\n",
       "      <th>legIds</th>\n",
       "    </tr>\n",
       "  </thead>\n",
       "  <tbody>\n",
       "    <tr>\n",
       "      <th>0</th>\n",
       "      <td>5b54aaa96228127cmsr:KL1820~15-KL871~15-KL3714~...</td>\n",
       "      <td>KL1820~15-KL871~15-KL3714~16=KL3689~15-KL878~1...</td>\n",
       "      <td>BER-MAA:KL1820~15:KL871~15:KL3714~16:0</td>\n",
       "    </tr>\n",
       "    <tr>\n",
       "      <th>0</th>\n",
       "      <td>5b54aaa96228127cmsr:KL1820~15-KL871~15-KL3714~...</td>\n",
       "      <td>KL1820~15-KL871~15-KL3714~16=KL3689~15-KL878~1...</td>\n",
       "      <td>MAA-BER:KL3689~15:KL878~16:KL1823~16:1</td>\n",
       "    </tr>\n",
       "    <tr>\n",
       "      <th>1</th>\n",
       "      <td>5b54aaa96228127cmsr:AF1135~15-AF108~15=AF107~1...</td>\n",
       "      <td>AF1135~15-AF108~15=AF107~15-AF1834~15</td>\n",
       "      <td>BER-MAA:AF1135~15:AF108~15:0</td>\n",
       "    </tr>\n",
       "    <tr>\n",
       "      <th>1</th>\n",
       "      <td>5b54aaa96228127cmsr:AF1135~15-AF108~15=AF107~1...</td>\n",
       "      <td>AF1135~15-AF108~15=AF107~15-AF1834~15</td>\n",
       "      <td>MAA-BER:AF107~15:AF1834~15:1</td>\n",
       "    </tr>\n",
       "    <tr>\n",
       "      <th>2</th>\n",
       "      <td>5b54aaa96228127cmsr:AF1235~15-AF108~16=AF107~1...</td>\n",
       "      <td>AF1235~15-AF108~16=AF107~15-AF1534~15</td>\n",
       "      <td>BER-MAA:AF1235~15:AF108~16:0</td>\n",
       "    </tr>\n",
       "  </tbody>\n",
       "</table>\n",
       "</div>"
      ],
      "text/plain": [
       "                                                  id  \\\n",
       "0  5b54aaa96228127cmsr:KL1820~15-KL871~15-KL3714~...   \n",
       "0  5b54aaa96228127cmsr:KL1820~15-KL871~15-KL3714~...   \n",
       "1  5b54aaa96228127cmsr:AF1135~15-AF108~15=AF107~1...   \n",
       "1  5b54aaa96228127cmsr:AF1135~15-AF108~15=AF107~1...   \n",
       "2  5b54aaa96228127cmsr:AF1235~15-AF108~16=AF107~1...   \n",
       "\n",
       "                                                code  \\\n",
       "0  KL1820~15-KL871~15-KL3714~16=KL3689~15-KL878~1...   \n",
       "0  KL1820~15-KL871~15-KL3714~16=KL3689~15-KL878~1...   \n",
       "1              AF1135~15-AF108~15=AF107~15-AF1834~15   \n",
       "1              AF1135~15-AF108~15=AF107~15-AF1834~15   \n",
       "2              AF1235~15-AF108~16=AF107~15-AF1534~15   \n",
       "\n",
       "                                   legIds  \n",
       "0  BER-MAA:KL1820~15:KL871~15:KL3714~16:0  \n",
       "0  MAA-BER:KL3689~15:KL878~16:KL1823~16:1  \n",
       "1            BER-MAA:AF1135~15:AF108~15:0  \n",
       "1            MAA-BER:AF107~15:AF1834~15:1  \n",
       "2            BER-MAA:AF1235~15:AF108~16:0  "
      ]
     },
     "execution_count": 69,
     "metadata": {},
     "output_type": "execute_result"
    }
   ],
   "source": [
    "df_trips.head()"
   ]
  },
  {
   "cell_type": "markdown",
   "id": "f92e48da",
   "metadata": {},
   "source": [
    "#### df_fares is where we have the price and currency info for the trips seen in legs array. Here you have columhns such as tripId, currencyCode and totalAmount"
   ]
  },
  {
   "cell_type": "code",
   "execution_count": null,
   "id": "55b59c11",
   "metadata": {},
   "outputs": [],
   "source": [
    "df_fares=json_normalize(dict['fares'])"
   ]
  },
  {
   "cell_type": "markdown",
   "id": "d222d73c",
   "metadata": {},
   "source": [
    "Rename columns that follows a certain pattern"
   ]
  },
  {
   "cell_type": "code",
   "execution_count": null,
   "id": "a126ccda",
   "metadata": {},
   "outputs": [],
   "source": [
    "df_fares.columns = df_fares.columns.str.replace(\"^price.\", \"\", regex=True)\n"
   ]
  },
  {
   "cell_type": "code",
   "execution_count": null,
   "id": "6e013583",
   "metadata": {},
   "outputs": [],
   "source": [
    "df_fares=df_fares.drop(columns=['paymentFees'])"
   ]
  },
  {
   "cell_type": "code",
   "execution_count": null,
   "id": "80325193",
   "metadata": {},
   "outputs": [
    {
     "data": {
      "text/html": [
       "<div>\n",
       "<style scoped>\n",
       "    .dataframe tbody tr th:only-of-type {\n",
       "        vertical-align: middle;\n",
       "    }\n",
       "\n",
       "    .dataframe tbody tr th {\n",
       "        vertical-align: top;\n",
       "    }\n",
       "\n",
       "    .dataframe thead th {\n",
       "        text-align: right;\n",
       "    }\n",
       "</style>\n",
       "<table border=\"1\" class=\"dataframe\">\n",
       "  <thead>\n",
       "    <tr style=\"text-align: right;\">\n",
       "      <th></th>\n",
       "      <th>id</th>\n",
       "      <th>providerCode</th>\n",
       "      <th>handoffUrl</th>\n",
       "      <th>ecpc</th>\n",
       "      <th>remainingSeatsCount</th>\n",
       "      <th>conditionIds</th>\n",
       "      <th>legConditionIds</th>\n",
       "      <th>refundable</th>\n",
       "      <th>exchangeable</th>\n",
       "      <th>tags</th>\n",
       "      <th>score</th>\n",
       "      <th>tripId</th>\n",
       "      <th>totalAmount</th>\n",
       "      <th>totalAmountUsd</th>\n",
       "      <th>amount</th>\n",
       "      <th>amountUsd</th>\n",
       "      <th>originalAmount</th>\n",
       "      <th>originalAmountUsd</th>\n",
       "      <th>amountPerAdult</th>\n",
       "      <th>amountPerChild</th>\n",
       "      <th>amountPerInfant</th>\n",
       "      <th>taxAmount</th>\n",
       "      <th>taxAmountUsd</th>\n",
       "      <th>totalTaxAmount</th>\n",
       "      <th>totalTaxAmountUsd</th>\n",
       "      <th>currencyCode</th>\n",
       "      <th>paymentFeeAmountUsd</th>\n",
       "      <th>bookingFee</th>\n",
       "      <th>bookingFeeUsd</th>\n",
       "      <th>totalBookingFee</th>\n",
       "      <th>totalBookingFeeUsd</th>\n",
       "    </tr>\n",
       "  </thead>\n",
       "  <tbody>\n",
       "    <tr>\n",
       "      <th>0</th>\n",
       "      <td>5b54aaa96228127cmsr:airfrance.com:c884e5b9b331abc</td>\n",
       "      <td>airfrance.com</td>\n",
       "      <td>https://handoff.wego.com/flights/continue?curr...</td>\n",
       "      <td>0.126223</td>\n",
       "      <td>0</td>\n",
       "      <td>[]</td>\n",
       "      <td>[]</td>\n",
       "      <td>False</td>\n",
       "      <td>False</td>\n",
       "      <td>[]</td>\n",
       "      <td>865.44165</td>\n",
       "      <td>5b54aaa96228127cmsr:AF1135~15-AF108~15=AF107~1...</td>\n",
       "      <td>704</td>\n",
       "      <td>771.2283</td>\n",
       "      <td>704</td>\n",
       "      <td>771.2283</td>\n",
       "      <td>703.90</td>\n",
       "      <td>771.2283</td>\n",
       "      <td>703.90</td>\n",
       "      <td>0</td>\n",
       "      <td>0</td>\n",
       "      <td>0</td>\n",
       "      <td>0</td>\n",
       "      <td>0</td>\n",
       "      <td>0</td>\n",
       "      <td>EUR</td>\n",
       "      <td>0</td>\n",
       "      <td>0</td>\n",
       "      <td>0</td>\n",
       "      <td>0</td>\n",
       "      <td>0</td>\n",
       "    </tr>\n",
       "    <tr>\n",
       "      <th>1</th>\n",
       "      <td>5b54aaa96228127cmsr:airfrance.com:d61adf3e3522...</td>\n",
       "      <td>airfrance.com</td>\n",
       "      <td>https://handoff.wego.com/flights/continue?curr...</td>\n",
       "      <td>0.126223</td>\n",
       "      <td>0</td>\n",
       "      <td>[]</td>\n",
       "      <td>[]</td>\n",
       "      <td>False</td>\n",
       "      <td>False</td>\n",
       "      <td>[]</td>\n",
       "      <td>751.61170</td>\n",
       "      <td>5b54aaa96228127cmsr:AF1535~15-AF108~16=AF107~1...</td>\n",
       "      <td>704</td>\n",
       "      <td>771.2283</td>\n",
       "      <td>704</td>\n",
       "      <td>771.2283</td>\n",
       "      <td>703.90</td>\n",
       "      <td>771.2283</td>\n",
       "      <td>703.90</td>\n",
       "      <td>0</td>\n",
       "      <td>0</td>\n",
       "      <td>0</td>\n",
       "      <td>0</td>\n",
       "      <td>0</td>\n",
       "      <td>0</td>\n",
       "      <td>EUR</td>\n",
       "      <td>0</td>\n",
       "      <td>0</td>\n",
       "      <td>0</td>\n",
       "      <td>0</td>\n",
       "      <td>0</td>\n",
       "    </tr>\n",
       "    <tr>\n",
       "      <th>2</th>\n",
       "      <td>5b54aaa96228127cmsr:airfrance.com:2313df268aac...</td>\n",
       "      <td>airfrance.com</td>\n",
       "      <td>https://handoff.wego.com/flights/continue?curr...</td>\n",
       "      <td>0.126223</td>\n",
       "      <td>0</td>\n",
       "      <td>[]</td>\n",
       "      <td>[]</td>\n",
       "      <td>False</td>\n",
       "      <td>False</td>\n",
       "      <td>[]</td>\n",
       "      <td>773.63770</td>\n",
       "      <td>5b54aaa96228127cmsr:AF1135~15-AF108~15=AF107~1...</td>\n",
       "      <td>710</td>\n",
       "      <td>778.0322</td>\n",
       "      <td>710</td>\n",
       "      <td>778.0322</td>\n",
       "      <td>710.11</td>\n",
       "      <td>778.0322</td>\n",
       "      <td>710.11</td>\n",
       "      <td>0</td>\n",
       "      <td>0</td>\n",
       "      <td>0</td>\n",
       "      <td>0</td>\n",
       "      <td>0</td>\n",
       "      <td>0</td>\n",
       "      <td>EUR</td>\n",
       "      <td>0</td>\n",
       "      <td>0</td>\n",
       "      <td>0</td>\n",
       "      <td>0</td>\n",
       "      <td>0</td>\n",
       "    </tr>\n",
       "    <tr>\n",
       "      <th>3</th>\n",
       "      <td>5b54aaa96228127cmsr:airfrance.com:b0147680c5c5...</td>\n",
       "      <td>airfrance.com</td>\n",
       "      <td>https://handoff.wego.com/flights/continue?curr...</td>\n",
       "      <td>0.126223</td>\n",
       "      <td>0</td>\n",
       "      <td>[]</td>\n",
       "      <td>[]</td>\n",
       "      <td>False</td>\n",
       "      <td>False</td>\n",
       "      <td>[]</td>\n",
       "      <td>659.80774</td>\n",
       "      <td>5b54aaa96228127cmsr:AF1535~15-AF108~16=AF107~1...</td>\n",
       "      <td>710</td>\n",
       "      <td>778.0322</td>\n",
       "      <td>710</td>\n",
       "      <td>778.0322</td>\n",
       "      <td>710.11</td>\n",
       "      <td>778.0322</td>\n",
       "      <td>710.11</td>\n",
       "      <td>0</td>\n",
       "      <td>0</td>\n",
       "      <td>0</td>\n",
       "      <td>0</td>\n",
       "      <td>0</td>\n",
       "      <td>0</td>\n",
       "      <td>EUR</td>\n",
       "      <td>0</td>\n",
       "      <td>0</td>\n",
       "      <td>0</td>\n",
       "      <td>0</td>\n",
       "      <td>0</td>\n",
       "    </tr>\n",
       "    <tr>\n",
       "      <th>4</th>\n",
       "      <td>5b54aaa96228127cmsr:airfrance.com:53e9eb430f58...</td>\n",
       "      <td>airfrance.com</td>\n",
       "      <td>https://handoff.wego.com/flights/continue?curr...</td>\n",
       "      <td>0.126223</td>\n",
       "      <td>0</td>\n",
       "      <td>[]</td>\n",
       "      <td>[]</td>\n",
       "      <td>False</td>\n",
       "      <td>False</td>\n",
       "      <td>[]</td>\n",
       "      <td>708.07280</td>\n",
       "      <td>5b54aaa96228127cmsr:AF1835~15-AF108~16=AF107~1...</td>\n",
       "      <td>714</td>\n",
       "      <td>782.0971</td>\n",
       "      <td>714</td>\n",
       "      <td>782.0971</td>\n",
       "      <td>713.82</td>\n",
       "      <td>782.0971</td>\n",
       "      <td>713.82</td>\n",
       "      <td>0</td>\n",
       "      <td>0</td>\n",
       "      <td>0</td>\n",
       "      <td>0</td>\n",
       "      <td>0</td>\n",
       "      <td>0</td>\n",
       "      <td>EUR</td>\n",
       "      <td>0</td>\n",
       "      <td>0</td>\n",
       "      <td>0</td>\n",
       "      <td>0</td>\n",
       "      <td>0</td>\n",
       "    </tr>\n",
       "  </tbody>\n",
       "</table>\n",
       "</div>"
      ],
      "text/plain": [
       "                                                  id   providerCode  \\\n",
       "0  5b54aaa96228127cmsr:airfrance.com:c884e5b9b331abc  airfrance.com   \n",
       "1  5b54aaa96228127cmsr:airfrance.com:d61adf3e3522...  airfrance.com   \n",
       "2  5b54aaa96228127cmsr:airfrance.com:2313df268aac...  airfrance.com   \n",
       "3  5b54aaa96228127cmsr:airfrance.com:b0147680c5c5...  airfrance.com   \n",
       "4  5b54aaa96228127cmsr:airfrance.com:53e9eb430f58...  airfrance.com   \n",
       "\n",
       "                                          handoffUrl      ecpc  \\\n",
       "0  https://handoff.wego.com/flights/continue?curr...  0.126223   \n",
       "1  https://handoff.wego.com/flights/continue?curr...  0.126223   \n",
       "2  https://handoff.wego.com/flights/continue?curr...  0.126223   \n",
       "3  https://handoff.wego.com/flights/continue?curr...  0.126223   \n",
       "4  https://handoff.wego.com/flights/continue?curr...  0.126223   \n",
       "\n",
       "   remainingSeatsCount conditionIds legConditionIds  refundable  exchangeable  \\\n",
       "0                    0           []              []       False         False   \n",
       "1                    0           []              []       False         False   \n",
       "2                    0           []              []       False         False   \n",
       "3                    0           []              []       False         False   \n",
       "4                    0           []              []       False         False   \n",
       "\n",
       "  tags      score                                             tripId  \\\n",
       "0   []  865.44165  5b54aaa96228127cmsr:AF1135~15-AF108~15=AF107~1...   \n",
       "1   []  751.61170  5b54aaa96228127cmsr:AF1535~15-AF108~16=AF107~1...   \n",
       "2   []  773.63770  5b54aaa96228127cmsr:AF1135~15-AF108~15=AF107~1...   \n",
       "3   []  659.80774  5b54aaa96228127cmsr:AF1535~15-AF108~16=AF107~1...   \n",
       "4   []  708.07280  5b54aaa96228127cmsr:AF1835~15-AF108~16=AF107~1...   \n",
       "\n",
       "   totalAmount  totalAmountUsd  amount  amountUsd  originalAmount  \\\n",
       "0          704        771.2283     704   771.2283          703.90   \n",
       "1          704        771.2283     704   771.2283          703.90   \n",
       "2          710        778.0322     710   778.0322          710.11   \n",
       "3          710        778.0322     710   778.0322          710.11   \n",
       "4          714        782.0971     714   782.0971          713.82   \n",
       "\n",
       "   originalAmountUsd  amountPerAdult  amountPerChild  amountPerInfant  \\\n",
       "0           771.2283          703.90               0                0   \n",
       "1           771.2283          703.90               0                0   \n",
       "2           778.0322          710.11               0                0   \n",
       "3           778.0322          710.11               0                0   \n",
       "4           782.0971          713.82               0                0   \n",
       "\n",
       "   taxAmount  taxAmountUsd  totalTaxAmount  totalTaxAmountUsd currencyCode  \\\n",
       "0          0             0               0                  0          EUR   \n",
       "1          0             0               0                  0          EUR   \n",
       "2          0             0               0                  0          EUR   \n",
       "3          0             0               0                  0          EUR   \n",
       "4          0             0               0                  0          EUR   \n",
       "\n",
       "   paymentFeeAmountUsd  bookingFee  bookingFeeUsd  totalBookingFee  \\\n",
       "0                    0           0              0                0   \n",
       "1                    0           0              0                0   \n",
       "2                    0           0              0                0   \n",
       "3                    0           0              0                0   \n",
       "4                    0           0              0                0   \n",
       "\n",
       "   totalBookingFeeUsd  \n",
       "0                   0  \n",
       "1                   0  \n",
       "2                   0  \n",
       "3                   0  \n",
       "4                   0  "
      ]
     },
     "execution_count": 74,
     "metadata": {},
     "output_type": "execute_result"
    }
   ],
   "source": [
    "df_fares.head()"
   ]
  },
  {
   "cell_type": "code",
   "execution_count": null,
   "id": "dd495b95",
   "metadata": {},
   "outputs": [
    {
     "name": "stdout",
     "output_type": "stream",
     "text": [
      "<class 'pandas.core.frame.DataFrame'>\n",
      "RangeIndex: 89 entries, 0 to 88\n",
      "Data columns (total 31 columns):\n",
      " #   Column               Non-Null Count  Dtype  \n",
      "---  ------               --------------  -----  \n",
      " 0   id                   89 non-null     object \n",
      " 1   providerCode         89 non-null     object \n",
      " 2   handoffUrl           89 non-null     object \n",
      " 3   ecpc                 89 non-null     float64\n",
      " 4   remainingSeatsCount  89 non-null     int64  \n",
      " 5   conditionIds         89 non-null     object \n",
      " 6   legConditionIds      89 non-null     object \n",
      " 7   refundable           89 non-null     bool   \n",
      " 8   exchangeable         89 non-null     bool   \n",
      " 9   tags                 89 non-null     object \n",
      " 10  score                89 non-null     float64\n",
      " 11  tripId               89 non-null     object \n",
      " 12  totalAmount          89 non-null     int64  \n",
      " 13  totalAmountUsd       89 non-null     float64\n",
      " 14  amount               89 non-null     int64  \n",
      " 15  amountUsd            89 non-null     float64\n",
      " 16  originalAmount       89 non-null     float64\n",
      " 17  originalAmountUsd    89 non-null     float64\n",
      " 18  amountPerAdult       89 non-null     float64\n",
      " 19  amountPerChild       89 non-null     int64  \n",
      " 20  amountPerInfant      89 non-null     int64  \n",
      " 21  taxAmount            89 non-null     int64  \n",
      " 22  taxAmountUsd         89 non-null     int64  \n",
      " 23  totalTaxAmount       89 non-null     int64  \n",
      " 24  totalTaxAmountUsd    89 non-null     int64  \n",
      " 25  currencyCode         89 non-null     object \n",
      " 26  paymentFeeAmountUsd  89 non-null     int64  \n",
      " 27  bookingFee           89 non-null     int64  \n",
      " 28  bookingFeeUsd        89 non-null     int64  \n",
      " 29  totalBookingFee      89 non-null     int64  \n",
      " 30  totalBookingFeeUsd   89 non-null     int64  \n",
      "dtypes: bool(2), float64(7), int64(14), object(8)\n",
      "memory usage: 20.5+ KB\n"
     ]
    }
   ],
   "source": [
    "df_fares=df_legs.drop(columns=['departureTimeMinutes','arrivalTimeMinutes','segments','operatingAirlineCodes','stopoverCode','shortStopover','earlyDeparture','lateArrival','newAircraft','oldAircraft','highlyRatedCarrier','score'])"
   ]
  },
  {
   "cell_type": "code",
   "execution_count": 4,
   "id": "436c4e64",
   "metadata": {},
   "outputs": [],
   "source": [
    "credentials=config.pg_credentials\n",
    "password=credentials['password']\n",
    "escaped_password = quote_plus(password) \n",
    "port=credentials['port']\n",
    "database=credentials['database']\n",
    "host=credentials['host']"
   ]
  },
  {
   "cell_type": "markdown",
   "id": "5816588b",
   "metadata": {},
   "source": [
    "Establish connection With postgresql DB. Note to use config file for storing passwords separately from the python code"
   ]
  },
  {
   "cell_type": "code",
   "execution_count": 9,
   "id": "96ba399a",
   "metadata": {},
   "outputs": [],
   "source": [
    "engine = create_engine(f'postgresql://postgres:{escaped_password}@{host}:{port}/{database}')"
   ]
  },
  {
   "cell_type": "code",
   "execution_count": null,
   "id": "f3b8d984",
   "metadata": {},
   "outputs": [],
   "source": [
    "df_legs.to_sql('flight_details', engine, if_exists='append', index=False)"
   ]
  },
  {
   "cell_type": "code",
   "execution_count": null,
   "id": "a2ea7c57",
   "metadata": {},
   "outputs": [],
   "source": [
    "df_trips.to_sql('trips',engine, if_exists='append', index=False)"
   ]
  },
  {
   "cell_type": "code",
   "execution_count": null,
   "id": "0e72f50a",
   "metadata": {},
   "outputs": [],
   "source": [
    "df_fares.to_sql('fares',engine,if_exists='append',index=False)"
   ]
  }
 ],
 "metadata": {
  "kernelspec": {
   "display_name": "Python 3 (ipykernel)",
   "language": "python",
   "name": "python3"
  },
  "language_info": {
   "codemirror_mode": {
    "name": "ipython",
    "version": 3
   },
   "file_extension": ".py",
   "mimetype": "text/x-python",
   "name": "python",
   "nbconvert_exporter": "python",
   "pygments_lexer": "ipython3",
   "version": "3.9.7"
  }
 },
 "nbformat": 4,
 "nbformat_minor": 5
}
